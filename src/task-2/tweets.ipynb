{
 "cells": [
  {
   "cell_type": "markdown",
   "metadata": {},
   "source": [
    "# Data Retrieval\n",
    "\n",
    "We start by retrieving the trending hashtags in Delhi, followed by collecting 10,000 tweets (filtering out retweets as they do not usually contain new information) containing the chosen hashtag, *#FarmersDoneWithModiJumlas*.\n",
    "\n",
    "The code below is written keeping in mind the rate limits of the Twitter API, and also handles external dependencies such as mising corpuses, files and directories. Please skip this section if you already have the tweets saved as a JSON file."
   ]
  },
  {
   "cell_type": "code",
   "execution_count": 11,
   "metadata": {},
   "outputs": [],
   "source": [
    "import tweepy\n",
    "import pandas as pd\n",
    "import matplotlib.pyplot as plt\n",
    "import matplotlib as mpl\n",
    "import seaborn as sns\n",
    "import numpy as np\n",
    "from tqdm import tqdm\n",
    "from pprint import pprint\n",
    "import json\n",
    "import plotly.express as px\n",
    "import plotly.figure_factory as pff\n",
    "import plotly.offline as poff\n",
    "import nltk\n",
    "from nltk.sentiment.vader import SentimentIntensityAnalyzer\n",
    "import re, os"
   ]
  },
  {
   "cell_type": "code",
   "execution_count": 21,
   "metadata": {},
   "outputs": [
    {
     "data": {
      "text/html": [
       "        <script type=\"text/javascript\">\n",
       "        window.PlotlyConfig = {MathJaxConfig: 'local'};\n",
       "        if (window.MathJax) {MathJax.Hub.Config({SVG: {font: \"STIX-Web\"}});}\n",
       "        if (typeof require !== 'undefined') {\n",
       "        require.undef(\"plotly\");\n",
       "        requirejs.config({\n",
       "            paths: {\n",
       "                'plotly': ['https://cdn.plot.ly/plotly-latest.min']\n",
       "            }\n",
       "        });\n",
       "        require(['plotly'], function(Plotly) {\n",
       "            window._Plotly = Plotly;\n",
       "        });\n",
       "        }\n",
       "        </script>\n",
       "        "
      ]
     },
     "metadata": {},
     "output_type": "display_data"
    }
   ],
   "source": [
    "############     ADD YOUR KEYS AND    ############\n",
    "############ ADJUST OUTPUT PATHS HERE ############\n",
    "\n",
    "CONSUMER_KEY = \"\"\n",
    "CONSUMER_KEY_SECRET = \"\"\n",
    "ACCESS_TOKEN = \"\"\n",
    "ACCESS_TOKEN_SECRET = \"\"\n",
    "PATH_OUT = '../../out/task-2/'\n",
    "\n",
    "os.makedirs(os.path.join(PATH_OUT, 'plots'), exist_ok=True)\n",
    "poff.init_notebook_mode(connected=True)\n",
    "mpl.rcParams['figure.dpi'] = 100"
   ]
  },
  {
   "cell_type": "code",
   "execution_count": 4,
   "metadata": {},
   "outputs": [],
   "source": [
    "auth = tweepy.AppAuthHandler(CONSUMER_KEY, CONSUMER_KEY_SECRET)\n",
    "api = tweepy.API(auth, wait_on_rate_limit=True, wait_on_rate_limit_notify=True)"
   ]
  },
  {
   "cell_type": "markdown",
   "metadata": {},
   "source": [
    "Get the locations with trend data available and find Delhi's place ID. Then, pull out hashtags trending in Delhi and pick one."
   ]
  },
  {
   "cell_type": "code",
   "execution_count": null,
   "metadata": {
    "tags": []
   },
   "outputs": [],
   "source": [
    "places = api.trends_available()\n",
    "pprint(places)\n",
    "\n",
    "# found afterwards\n",
    "DELHI_PLACE_ID = 20070458"
   ]
  },
  {
   "cell_type": "code",
   "execution_count": null,
   "metadata": {},
   "outputs": [],
   "source": [
    "trends = api.trends_place(id=DELHI_PLACE_ID)[0]\n",
    "for trend in trends['trends']:\n",
    "    print(trend['name'], trend['tweet_volume'])\n",
    "with open(os.path.join(PATH_OUT, 'trends.json'), 'w') as f:\n",
    "    json.dump(trends, f)\n",
    "\n",
    "# found afterwards\n",
    "TRENDING_HASHTAG = '#FarmersDoneWithModiJumlas'"
   ]
  },
  {
   "cell_type": "markdown",
   "metadata": {},
   "source": [
    "Get tweets with the chosen hashtag, filtering out retweets. This might take a while."
   ]
  },
  {
   "cell_type": "code",
   "execution_count": 33,
   "metadata": {},
   "outputs": [],
   "source": [
    "def loop_twitter(cursor, limit):\n",
    "    res = []\n",
    "    for obj in tqdm(cursor.items(limit)):\n",
    "        # tweepy automatically stalls on rate limit\n",
    "        res.append(obj)\n",
    "    return(res)\n",
    "\n",
    "def full_display(df):\n",
    "    pd.set_option('display.max_rows', 50)\n",
    "    pd.set_option('display.max_columns', 10)\n",
    "    pd.set_option('display.width', 150)\n",
    "    pd.set_option('display.max_colwidth', None)\n",
    "    display(df)\n",
    "    pd.reset_option('display.max_rows')\n",
    "    pd.reset_option('display.max_columns')\n",
    "    pd.reset_option('display.width')\n",
    "    pd.reset_option('display.max_colwidth')"
   ]
  },
  {
   "cell_type": "code",
   "execution_count": 11,
   "metadata": {},
   "outputs": [
    {
     "name": "stderr",
     "output_type": "stream",
     "text": [
      "5891it [05:52, 17.42it/s]Rate limit reached. Sleeping for: 547\n",
      "10000it [19:15,  8.66it/s]\n"
     ]
    }
   ],
   "source": [
    "query = f'{TRENDING_HASHTAG} -filter:retweets'\n",
    "limit = 10000\n",
    "cursor = tweepy.Cursor(api.search, q=query)\n",
    "main_tweets = loop_twitter(cursor, limit)"
   ]
  },
  {
   "cell_type": "code",
   "execution_count": 14,
   "metadata": {},
   "outputs": [],
   "source": [
    "main_tweets_json = [t._json for t in main_tweets]\n",
    "\n",
    "# save in both encodings, lots of indic characters and emoji expected\n",
    "with open(os.path.join(PATH_OUT, 'main_tweets_utf.json'), 'w', encoding='utf-8') as f:\n",
    "    json.dump(main_tweets_json, f, ensure_ascii=False)\n",
    "    \n",
    "with open(os.path.join(PATH_OUT, 'main_tweets_ascii.json'), 'w') as f:\n",
    "    json.dump(main_tweets_json, f)"
   ]
  },
  {
   "cell_type": "markdown",
   "metadata": {},
   "source": [
    "# Analysis\n",
    "\n",
    "Here, we perform an exploratory analysis of the given data, focussing on the language, regions and sentiments of the tweets and attributes (such as count of followers) that determine the popularity or activity of the users who posted them."
   ]
  },
  {
   "cell_type": "code",
   "execution_count": 9,
   "metadata": {},
   "outputs": [
    {
     "name": "stdout",
     "output_type": "stream",
     "text": [
      "<class 'pandas.core.frame.DataFrame'>\n",
      "RangeIndex: 10000 entries, 0 to 9999\n",
      "Data columns (total 29 columns):\n",
      " #   Column                     Non-Null Count  Dtype  \n",
      "---  ------                     --------------  -----  \n",
      " 0   created_at                 10000 non-null  object \n",
      " 1   id                         10000 non-null  int64  \n",
      " 2   id_str                     10000 non-null  object \n",
      " 3   text                       10000 non-null  object \n",
      " 4   truncated                  10000 non-null  bool   \n",
      " 5   entities                   10000 non-null  object \n",
      " 6   metadata                   10000 non-null  object \n",
      " 7   source                     10000 non-null  object \n",
      " 8   in_reply_to_status_id      1942 non-null   float64\n",
      " 9   in_reply_to_status_id_str  1942 non-null   object \n",
      " 10  in_reply_to_user_id        2030 non-null   float64\n",
      " 11  in_reply_to_user_id_str    2030 non-null   object \n",
      " 12  in_reply_to_screen_name    2030 non-null   object \n",
      " 13  user                       10000 non-null  object \n",
      " 14  geo                        0 non-null      object \n",
      " 15  coordinates                0 non-null      object \n",
      " 16  place                      249 non-null    object \n",
      " 17  contributors               0 non-null      object \n",
      " 18  is_quote_status            10000 non-null  bool   \n",
      " 19  retweet_count              10000 non-null  int64  \n",
      " 20  favorite_count             10000 non-null  int64  \n",
      " 21  favorited                  10000 non-null  bool   \n",
      " 22  retweeted                  10000 non-null  bool   \n",
      " 23  lang                       10000 non-null  object \n",
      " 24  extended_entities          1638 non-null   object \n",
      " 25  possibly_sensitive         5673 non-null   object \n",
      " 26  quoted_status_id           3304 non-null   float64\n",
      " 27  quoted_status_id_str       3304 non-null   object \n",
      " 28  quoted_status              3304 non-null   object \n",
      "dtypes: bool(4), float64(3), int64(3), object(19)\n",
      "memory usage: 1.9+ MB\n"
     ]
    }
   ],
   "source": [
    "with open(os.path.join(PATH_OUT, 'main_tweets_utf.json'), 'r', encoding='utf-8') as f:\n",
    "    main_tweets_json = json.load(f)\n",
    "df = pd.DataFrame.from_records(main_tweets_json)\n",
    "df.info()"
   ]
  },
  {
   "cell_type": "markdown",
   "metadata": {},
   "source": [
    "## Tweet Language\n",
    "\n",
    "First, we plot the language distribution of the tweets. The language labels are automatically assigned by Twitter based on the tweet text, and hence may not always be accurate. Several examples containing Hinglish text could be found on a random sampling of the dataset, which were incorrectly categorised as English.\n",
    "\n",
    "We find that almost a fourth of the tweets were not categorised (`und` or *undefined*), and according to Twitter, they consist of texts that only contain entity names, emojis, URLS, twitter handles, gibberish or content that the classification model failed to recognise as any language.\n",
    "\n",
    "English, Punjabi and Hindi form a significant portion of the categorised tweets, which is expected, given that the hashtag refers to a social event (recent protests by farmers in Punjab and Haryana against changes to agricultural laws) pertaining to Northern India. Delhi, being the seat of the Parliament, was the epicenter of the protest, which explains why this hashtag was trending in Delhi.\n",
    "\n",
    "**Note:** *The below plot is interactive. Clicking on the legend removes categories from the composition calculation. A similar plot can be found on [twisualise](https://twisualise.herokuapp.com).*"
   ]
  },
  {
   "cell_type": "code",
   "execution_count": 13,
   "metadata": {},
   "outputs": [
    {
     "data": {
      "application/vnd.plotly.v1+json": {
       "config": {
        "plotlyServerURL": "https://plot.ly"
       },
       "data": [
        {
         "domain": {
          "x": [
           0,
           1
          ],
          "y": [
           0,
           1
          ]
         },
         "hovertemplate": "lang=%{label}<br>count=%{value}<extra></extra>",
         "labels": [
          "en",
          "und",
          "pa",
          "hi",
          "in",
          "tl",
          "et",
          "ht",
          "tr",
          "es",
          "other",
          "other",
          "other",
          "other",
          "other",
          "other",
          "other",
          "other",
          "other",
          "other",
          "other",
          "other",
          "other",
          "other",
          "other",
          "other",
          "other",
          "other",
          "other",
          "other",
          "other",
          "other",
          "other",
          "other"
         ],
         "legendgroup": "",
         "name": "",
         "showlegend": true,
         "type": "pie",
         "values": [
          2612,
          2494,
          1947,
          1369,
          683,
          236,
          211,
          97,
          40,
          32,
          26,
          24,
          24,
          22,
          19,
          19,
          16,
          16,
          15,
          11,
          10,
          10,
          9,
          9,
          7,
          7,
          6,
          6,
          5,
          5,
          4,
          4,
          4,
          1
         ]
        }
       ],
       "layout": {
        "legend": {
         "tracegroupgap": 0
        },
        "template": {
         "data": {
          "bar": [
           {
            "error_x": {
             "color": "#2a3f5f"
            },
            "error_y": {
             "color": "#2a3f5f"
            },
            "marker": {
             "line": {
              "color": "#E5ECF6",
              "width": 0.5
             }
            },
            "type": "bar"
           }
          ],
          "barpolar": [
           {
            "marker": {
             "line": {
              "color": "#E5ECF6",
              "width": 0.5
             }
            },
            "type": "barpolar"
           }
          ],
          "carpet": [
           {
            "aaxis": {
             "endlinecolor": "#2a3f5f",
             "gridcolor": "white",
             "linecolor": "white",
             "minorgridcolor": "white",
             "startlinecolor": "#2a3f5f"
            },
            "baxis": {
             "endlinecolor": "#2a3f5f",
             "gridcolor": "white",
             "linecolor": "white",
             "minorgridcolor": "white",
             "startlinecolor": "#2a3f5f"
            },
            "type": "carpet"
           }
          ],
          "choropleth": [
           {
            "colorbar": {
             "outlinewidth": 0,
             "ticks": ""
            },
            "type": "choropleth"
           }
          ],
          "contour": [
           {
            "colorbar": {
             "outlinewidth": 0,
             "ticks": ""
            },
            "colorscale": [
             [
              0,
              "#0d0887"
             ],
             [
              0.1111111111111111,
              "#46039f"
             ],
             [
              0.2222222222222222,
              "#7201a8"
             ],
             [
              0.3333333333333333,
              "#9c179e"
             ],
             [
              0.4444444444444444,
              "#bd3786"
             ],
             [
              0.5555555555555556,
              "#d8576b"
             ],
             [
              0.6666666666666666,
              "#ed7953"
             ],
             [
              0.7777777777777778,
              "#fb9f3a"
             ],
             [
              0.8888888888888888,
              "#fdca26"
             ],
             [
              1,
              "#f0f921"
             ]
            ],
            "type": "contour"
           }
          ],
          "contourcarpet": [
           {
            "colorbar": {
             "outlinewidth": 0,
             "ticks": ""
            },
            "type": "contourcarpet"
           }
          ],
          "heatmap": [
           {
            "colorbar": {
             "outlinewidth": 0,
             "ticks": ""
            },
            "colorscale": [
             [
              0,
              "#0d0887"
             ],
             [
              0.1111111111111111,
              "#46039f"
             ],
             [
              0.2222222222222222,
              "#7201a8"
             ],
             [
              0.3333333333333333,
              "#9c179e"
             ],
             [
              0.4444444444444444,
              "#bd3786"
             ],
             [
              0.5555555555555556,
              "#d8576b"
             ],
             [
              0.6666666666666666,
              "#ed7953"
             ],
             [
              0.7777777777777778,
              "#fb9f3a"
             ],
             [
              0.8888888888888888,
              "#fdca26"
             ],
             [
              1,
              "#f0f921"
             ]
            ],
            "type": "heatmap"
           }
          ],
          "heatmapgl": [
           {
            "colorbar": {
             "outlinewidth": 0,
             "ticks": ""
            },
            "colorscale": [
             [
              0,
              "#0d0887"
             ],
             [
              0.1111111111111111,
              "#46039f"
             ],
             [
              0.2222222222222222,
              "#7201a8"
             ],
             [
              0.3333333333333333,
              "#9c179e"
             ],
             [
              0.4444444444444444,
              "#bd3786"
             ],
             [
              0.5555555555555556,
              "#d8576b"
             ],
             [
              0.6666666666666666,
              "#ed7953"
             ],
             [
              0.7777777777777778,
              "#fb9f3a"
             ],
             [
              0.8888888888888888,
              "#fdca26"
             ],
             [
              1,
              "#f0f921"
             ]
            ],
            "type": "heatmapgl"
           }
          ],
          "histogram": [
           {
            "marker": {
             "colorbar": {
              "outlinewidth": 0,
              "ticks": ""
             }
            },
            "type": "histogram"
           }
          ],
          "histogram2d": [
           {
            "colorbar": {
             "outlinewidth": 0,
             "ticks": ""
            },
            "colorscale": [
             [
              0,
              "#0d0887"
             ],
             [
              0.1111111111111111,
              "#46039f"
             ],
             [
              0.2222222222222222,
              "#7201a8"
             ],
             [
              0.3333333333333333,
              "#9c179e"
             ],
             [
              0.4444444444444444,
              "#bd3786"
             ],
             [
              0.5555555555555556,
              "#d8576b"
             ],
             [
              0.6666666666666666,
              "#ed7953"
             ],
             [
              0.7777777777777778,
              "#fb9f3a"
             ],
             [
              0.8888888888888888,
              "#fdca26"
             ],
             [
              1,
              "#f0f921"
             ]
            ],
            "type": "histogram2d"
           }
          ],
          "histogram2dcontour": [
           {
            "colorbar": {
             "outlinewidth": 0,
             "ticks": ""
            },
            "colorscale": [
             [
              0,
              "#0d0887"
             ],
             [
              0.1111111111111111,
              "#46039f"
             ],
             [
              0.2222222222222222,
              "#7201a8"
             ],
             [
              0.3333333333333333,
              "#9c179e"
             ],
             [
              0.4444444444444444,
              "#bd3786"
             ],
             [
              0.5555555555555556,
              "#d8576b"
             ],
             [
              0.6666666666666666,
              "#ed7953"
             ],
             [
              0.7777777777777778,
              "#fb9f3a"
             ],
             [
              0.8888888888888888,
              "#fdca26"
             ],
             [
              1,
              "#f0f921"
             ]
            ],
            "type": "histogram2dcontour"
           }
          ],
          "mesh3d": [
           {
            "colorbar": {
             "outlinewidth": 0,
             "ticks": ""
            },
            "type": "mesh3d"
           }
          ],
          "parcoords": [
           {
            "line": {
             "colorbar": {
              "outlinewidth": 0,
              "ticks": ""
             }
            },
            "type": "parcoords"
           }
          ],
          "pie": [
           {
            "automargin": true,
            "type": "pie"
           }
          ],
          "scatter": [
           {
            "marker": {
             "colorbar": {
              "outlinewidth": 0,
              "ticks": ""
             }
            },
            "type": "scatter"
           }
          ],
          "scatter3d": [
           {
            "line": {
             "colorbar": {
              "outlinewidth": 0,
              "ticks": ""
             }
            },
            "marker": {
             "colorbar": {
              "outlinewidth": 0,
              "ticks": ""
             }
            },
            "type": "scatter3d"
           }
          ],
          "scattercarpet": [
           {
            "marker": {
             "colorbar": {
              "outlinewidth": 0,
              "ticks": ""
             }
            },
            "type": "scattercarpet"
           }
          ],
          "scattergeo": [
           {
            "marker": {
             "colorbar": {
              "outlinewidth": 0,
              "ticks": ""
             }
            },
            "type": "scattergeo"
           }
          ],
          "scattergl": [
           {
            "marker": {
             "colorbar": {
              "outlinewidth": 0,
              "ticks": ""
             }
            },
            "type": "scattergl"
           }
          ],
          "scattermapbox": [
           {
            "marker": {
             "colorbar": {
              "outlinewidth": 0,
              "ticks": ""
             }
            },
            "type": "scattermapbox"
           }
          ],
          "scatterpolar": [
           {
            "marker": {
             "colorbar": {
              "outlinewidth": 0,
              "ticks": ""
             }
            },
            "type": "scatterpolar"
           }
          ],
          "scatterpolargl": [
           {
            "marker": {
             "colorbar": {
              "outlinewidth": 0,
              "ticks": ""
             }
            },
            "type": "scatterpolargl"
           }
          ],
          "scatterternary": [
           {
            "marker": {
             "colorbar": {
              "outlinewidth": 0,
              "ticks": ""
             }
            },
            "type": "scatterternary"
           }
          ],
          "surface": [
           {
            "colorbar": {
             "outlinewidth": 0,
             "ticks": ""
            },
            "colorscale": [
             [
              0,
              "#0d0887"
             ],
             [
              0.1111111111111111,
              "#46039f"
             ],
             [
              0.2222222222222222,
              "#7201a8"
             ],
             [
              0.3333333333333333,
              "#9c179e"
             ],
             [
              0.4444444444444444,
              "#bd3786"
             ],
             [
              0.5555555555555556,
              "#d8576b"
             ],
             [
              0.6666666666666666,
              "#ed7953"
             ],
             [
              0.7777777777777778,
              "#fb9f3a"
             ],
             [
              0.8888888888888888,
              "#fdca26"
             ],
             [
              1,
              "#f0f921"
             ]
            ],
            "type": "surface"
           }
          ],
          "table": [
           {
            "cells": {
             "fill": {
              "color": "#EBF0F8"
             },
             "line": {
              "color": "white"
             }
            },
            "header": {
             "fill": {
              "color": "#C8D4E3"
             },
             "line": {
              "color": "white"
             }
            },
            "type": "table"
           }
          ]
         },
         "layout": {
          "annotationdefaults": {
           "arrowcolor": "#2a3f5f",
           "arrowhead": 0,
           "arrowwidth": 1
          },
          "autotypenumbers": "strict",
          "coloraxis": {
           "colorbar": {
            "outlinewidth": 0,
            "ticks": ""
           }
          },
          "colorscale": {
           "diverging": [
            [
             0,
             "#8e0152"
            ],
            [
             0.1,
             "#c51b7d"
            ],
            [
             0.2,
             "#de77ae"
            ],
            [
             0.3,
             "#f1b6da"
            ],
            [
             0.4,
             "#fde0ef"
            ],
            [
             0.5,
             "#f7f7f7"
            ],
            [
             0.6,
             "#e6f5d0"
            ],
            [
             0.7,
             "#b8e186"
            ],
            [
             0.8,
             "#7fbc41"
            ],
            [
             0.9,
             "#4d9221"
            ],
            [
             1,
             "#276419"
            ]
           ],
           "sequential": [
            [
             0,
             "#0d0887"
            ],
            [
             0.1111111111111111,
             "#46039f"
            ],
            [
             0.2222222222222222,
             "#7201a8"
            ],
            [
             0.3333333333333333,
             "#9c179e"
            ],
            [
             0.4444444444444444,
             "#bd3786"
            ],
            [
             0.5555555555555556,
             "#d8576b"
            ],
            [
             0.6666666666666666,
             "#ed7953"
            ],
            [
             0.7777777777777778,
             "#fb9f3a"
            ],
            [
             0.8888888888888888,
             "#fdca26"
            ],
            [
             1,
             "#f0f921"
            ]
           ],
           "sequentialminus": [
            [
             0,
             "#0d0887"
            ],
            [
             0.1111111111111111,
             "#46039f"
            ],
            [
             0.2222222222222222,
             "#7201a8"
            ],
            [
             0.3333333333333333,
             "#9c179e"
            ],
            [
             0.4444444444444444,
             "#bd3786"
            ],
            [
             0.5555555555555556,
             "#d8576b"
            ],
            [
             0.6666666666666666,
             "#ed7953"
            ],
            [
             0.7777777777777778,
             "#fb9f3a"
            ],
            [
             0.8888888888888888,
             "#fdca26"
            ],
            [
             1,
             "#f0f921"
            ]
           ]
          },
          "colorway": [
           "#636efa",
           "#EF553B",
           "#00cc96",
           "#ab63fa",
           "#FFA15A",
           "#19d3f3",
           "#FF6692",
           "#B6E880",
           "#FF97FF",
           "#FECB52"
          ],
          "font": {
           "color": "#2a3f5f"
          },
          "geo": {
           "bgcolor": "white",
           "lakecolor": "white",
           "landcolor": "#E5ECF6",
           "showlakes": true,
           "showland": true,
           "subunitcolor": "white"
          },
          "hoverlabel": {
           "align": "left"
          },
          "hovermode": "closest",
          "mapbox": {
           "style": "light"
          },
          "paper_bgcolor": "white",
          "plot_bgcolor": "#E5ECF6",
          "polar": {
           "angularaxis": {
            "gridcolor": "white",
            "linecolor": "white",
            "ticks": ""
           },
           "bgcolor": "#E5ECF6",
           "radialaxis": {
            "gridcolor": "white",
            "linecolor": "white",
            "ticks": ""
           }
          },
          "scene": {
           "xaxis": {
            "backgroundcolor": "#E5ECF6",
            "gridcolor": "white",
            "gridwidth": 2,
            "linecolor": "white",
            "showbackground": true,
            "ticks": "",
            "zerolinecolor": "white"
           },
           "yaxis": {
            "backgroundcolor": "#E5ECF6",
            "gridcolor": "white",
            "gridwidth": 2,
            "linecolor": "white",
            "showbackground": true,
            "ticks": "",
            "zerolinecolor": "white"
           },
           "zaxis": {
            "backgroundcolor": "#E5ECF6",
            "gridcolor": "white",
            "gridwidth": 2,
            "linecolor": "white",
            "showbackground": true,
            "ticks": "",
            "zerolinecolor": "white"
           }
          },
          "shapedefaults": {
           "line": {
            "color": "#2a3f5f"
           }
          },
          "ternary": {
           "aaxis": {
            "gridcolor": "white",
            "linecolor": "white",
            "ticks": ""
           },
           "baxis": {
            "gridcolor": "white",
            "linecolor": "white",
            "ticks": ""
           },
           "bgcolor": "#E5ECF6",
           "caxis": {
            "gridcolor": "white",
            "linecolor": "white",
            "ticks": ""
           }
          },
          "title": {
           "x": 0.05
          },
          "xaxis": {
           "automargin": true,
           "gridcolor": "white",
           "linecolor": "white",
           "ticks": "",
           "title": {
            "standoff": 15
           },
           "zerolinecolor": "white",
           "zerolinewidth": 2
          },
          "yaxis": {
           "automargin": true,
           "gridcolor": "white",
           "linecolor": "white",
           "ticks": "",
           "title": {
            "standoff": 15
           },
           "zerolinecolor": "white",
           "zerolinewidth": 2
          }
         }
        },
        "title": {
         "text": "Tweets by Language"
        }
       }
      },
      "text/html": [
       "<div>                            <div id=\"6dbbd54a-03bd-498d-8778-ee5d576bdb3f\" class=\"plotly-graph-div\" style=\"height:525px; width:100%;\"></div>            <script type=\"text/javascript\">                require([\"plotly\"], function(Plotly) {                    window.PLOTLYENV=window.PLOTLYENV || {};                                    if (document.getElementById(\"6dbbd54a-03bd-498d-8778-ee5d576bdb3f\")) {                    Plotly.newPlot(                        \"6dbbd54a-03bd-498d-8778-ee5d576bdb3f\",                        [{\"domain\": {\"x\": [0.0, 1.0], \"y\": [0.0, 1.0]}, \"hovertemplate\": \"lang=%{label}<br>count=%{value}<extra></extra>\", \"labels\": [\"en\", \"und\", \"pa\", \"hi\", \"in\", \"tl\", \"et\", \"ht\", \"tr\", \"es\", \"other\", \"other\", \"other\", \"other\", \"other\", \"other\", \"other\", \"other\", \"other\", \"other\", \"other\", \"other\", \"other\", \"other\", \"other\", \"other\", \"other\", \"other\", \"other\", \"other\", \"other\", \"other\", \"other\", \"other\"], \"legendgroup\": \"\", \"name\": \"\", \"showlegend\": true, \"type\": \"pie\", \"values\": [2612, 2494, 1947, 1369, 683, 236, 211, 97, 40, 32, 26, 24, 24, 22, 19, 19, 16, 16, 15, 11, 10, 10, 9, 9, 7, 7, 6, 6, 5, 5, 4, 4, 4, 1]}],                        {\"legend\": {\"tracegroupgap\": 0}, \"template\": {\"data\": {\"bar\": [{\"error_x\": {\"color\": \"#2a3f5f\"}, \"error_y\": {\"color\": \"#2a3f5f\"}, \"marker\": {\"line\": {\"color\": \"#E5ECF6\", \"width\": 0.5}}, \"type\": \"bar\"}], \"barpolar\": [{\"marker\": {\"line\": {\"color\": \"#E5ECF6\", \"width\": 0.5}}, \"type\": \"barpolar\"}], \"carpet\": [{\"aaxis\": {\"endlinecolor\": \"#2a3f5f\", \"gridcolor\": \"white\", \"linecolor\": \"white\", \"minorgridcolor\": \"white\", \"startlinecolor\": \"#2a3f5f\"}, \"baxis\": {\"endlinecolor\": \"#2a3f5f\", \"gridcolor\": \"white\", \"linecolor\": \"white\", \"minorgridcolor\": \"white\", \"startlinecolor\": \"#2a3f5f\"}, \"type\": \"carpet\"}], \"choropleth\": [{\"colorbar\": {\"outlinewidth\": 0, \"ticks\": \"\"}, \"type\": \"choropleth\"}], \"contour\": [{\"colorbar\": {\"outlinewidth\": 0, \"ticks\": \"\"}, \"colorscale\": [[0.0, \"#0d0887\"], [0.1111111111111111, \"#46039f\"], [0.2222222222222222, \"#7201a8\"], [0.3333333333333333, \"#9c179e\"], [0.4444444444444444, \"#bd3786\"], [0.5555555555555556, \"#d8576b\"], [0.6666666666666666, \"#ed7953\"], [0.7777777777777778, \"#fb9f3a\"], [0.8888888888888888, \"#fdca26\"], [1.0, \"#f0f921\"]], \"type\": \"contour\"}], \"contourcarpet\": [{\"colorbar\": {\"outlinewidth\": 0, \"ticks\": \"\"}, \"type\": \"contourcarpet\"}], \"heatmap\": [{\"colorbar\": {\"outlinewidth\": 0, \"ticks\": \"\"}, \"colorscale\": [[0.0, \"#0d0887\"], [0.1111111111111111, \"#46039f\"], [0.2222222222222222, \"#7201a8\"], [0.3333333333333333, \"#9c179e\"], [0.4444444444444444, \"#bd3786\"], [0.5555555555555556, \"#d8576b\"], [0.6666666666666666, \"#ed7953\"], [0.7777777777777778, \"#fb9f3a\"], [0.8888888888888888, \"#fdca26\"], [1.0, \"#f0f921\"]], \"type\": \"heatmap\"}], \"heatmapgl\": [{\"colorbar\": {\"outlinewidth\": 0, \"ticks\": \"\"}, \"colorscale\": [[0.0, \"#0d0887\"], [0.1111111111111111, \"#46039f\"], [0.2222222222222222, \"#7201a8\"], [0.3333333333333333, \"#9c179e\"], [0.4444444444444444, \"#bd3786\"], [0.5555555555555556, \"#d8576b\"], [0.6666666666666666, \"#ed7953\"], [0.7777777777777778, \"#fb9f3a\"], [0.8888888888888888, \"#fdca26\"], [1.0, \"#f0f921\"]], \"type\": \"heatmapgl\"}], \"histogram\": [{\"marker\": {\"colorbar\": {\"outlinewidth\": 0, \"ticks\": \"\"}}, \"type\": \"histogram\"}], \"histogram2d\": [{\"colorbar\": {\"outlinewidth\": 0, \"ticks\": \"\"}, \"colorscale\": [[0.0, \"#0d0887\"], [0.1111111111111111, \"#46039f\"], [0.2222222222222222, \"#7201a8\"], [0.3333333333333333, \"#9c179e\"], [0.4444444444444444, \"#bd3786\"], [0.5555555555555556, \"#d8576b\"], [0.6666666666666666, \"#ed7953\"], [0.7777777777777778, \"#fb9f3a\"], [0.8888888888888888, \"#fdca26\"], [1.0, \"#f0f921\"]], \"type\": \"histogram2d\"}], \"histogram2dcontour\": [{\"colorbar\": {\"outlinewidth\": 0, \"ticks\": \"\"}, \"colorscale\": [[0.0, \"#0d0887\"], [0.1111111111111111, \"#46039f\"], [0.2222222222222222, \"#7201a8\"], [0.3333333333333333, \"#9c179e\"], [0.4444444444444444, \"#bd3786\"], [0.5555555555555556, \"#d8576b\"], [0.6666666666666666, \"#ed7953\"], [0.7777777777777778, \"#fb9f3a\"], [0.8888888888888888, \"#fdca26\"], [1.0, \"#f0f921\"]], \"type\": \"histogram2dcontour\"}], \"mesh3d\": [{\"colorbar\": {\"outlinewidth\": 0, \"ticks\": \"\"}, \"type\": \"mesh3d\"}], \"parcoords\": [{\"line\": {\"colorbar\": {\"outlinewidth\": 0, \"ticks\": \"\"}}, \"type\": \"parcoords\"}], \"pie\": [{\"automargin\": true, \"type\": \"pie\"}], \"scatter\": [{\"marker\": {\"colorbar\": {\"outlinewidth\": 0, \"ticks\": \"\"}}, \"type\": \"scatter\"}], \"scatter3d\": [{\"line\": {\"colorbar\": {\"outlinewidth\": 0, \"ticks\": \"\"}}, \"marker\": {\"colorbar\": {\"outlinewidth\": 0, \"ticks\": \"\"}}, \"type\": \"scatter3d\"}], \"scattercarpet\": [{\"marker\": {\"colorbar\": {\"outlinewidth\": 0, \"ticks\": \"\"}}, \"type\": \"scattercarpet\"}], \"scattergeo\": [{\"marker\": {\"colorbar\": {\"outlinewidth\": 0, \"ticks\": \"\"}}, \"type\": \"scattergeo\"}], \"scattergl\": [{\"marker\": {\"colorbar\": {\"outlinewidth\": 0, \"ticks\": \"\"}}, \"type\": \"scattergl\"}], \"scattermapbox\": [{\"marker\": {\"colorbar\": {\"outlinewidth\": 0, \"ticks\": \"\"}}, \"type\": \"scattermapbox\"}], \"scatterpolar\": [{\"marker\": {\"colorbar\": {\"outlinewidth\": 0, \"ticks\": \"\"}}, \"type\": \"scatterpolar\"}], \"scatterpolargl\": [{\"marker\": {\"colorbar\": {\"outlinewidth\": 0, \"ticks\": \"\"}}, \"type\": \"scatterpolargl\"}], \"scatterternary\": [{\"marker\": {\"colorbar\": {\"outlinewidth\": 0, \"ticks\": \"\"}}, \"type\": \"scatterternary\"}], \"surface\": [{\"colorbar\": {\"outlinewidth\": 0, \"ticks\": \"\"}, \"colorscale\": [[0.0, \"#0d0887\"], [0.1111111111111111, \"#46039f\"], [0.2222222222222222, \"#7201a8\"], [0.3333333333333333, \"#9c179e\"], [0.4444444444444444, \"#bd3786\"], [0.5555555555555556, \"#d8576b\"], [0.6666666666666666, \"#ed7953\"], [0.7777777777777778, \"#fb9f3a\"], [0.8888888888888888, \"#fdca26\"], [1.0, \"#f0f921\"]], \"type\": \"surface\"}], \"table\": [{\"cells\": {\"fill\": {\"color\": \"#EBF0F8\"}, \"line\": {\"color\": \"white\"}}, \"header\": {\"fill\": {\"color\": \"#C8D4E3\"}, \"line\": {\"color\": \"white\"}}, \"type\": \"table\"}]}, \"layout\": {\"annotationdefaults\": {\"arrowcolor\": \"#2a3f5f\", \"arrowhead\": 0, \"arrowwidth\": 1}, \"autotypenumbers\": \"strict\", \"coloraxis\": {\"colorbar\": {\"outlinewidth\": 0, \"ticks\": \"\"}}, \"colorscale\": {\"diverging\": [[0, \"#8e0152\"], [0.1, \"#c51b7d\"], [0.2, \"#de77ae\"], [0.3, \"#f1b6da\"], [0.4, \"#fde0ef\"], [0.5, \"#f7f7f7\"], [0.6, \"#e6f5d0\"], [0.7, \"#b8e186\"], [0.8, \"#7fbc41\"], [0.9, \"#4d9221\"], [1, \"#276419\"]], \"sequential\": [[0.0, \"#0d0887\"], [0.1111111111111111, \"#46039f\"], [0.2222222222222222, \"#7201a8\"], [0.3333333333333333, \"#9c179e\"], [0.4444444444444444, \"#bd3786\"], [0.5555555555555556, \"#d8576b\"], [0.6666666666666666, \"#ed7953\"], [0.7777777777777778, \"#fb9f3a\"], [0.8888888888888888, \"#fdca26\"], [1.0, \"#f0f921\"]], \"sequentialminus\": [[0.0, \"#0d0887\"], [0.1111111111111111, \"#46039f\"], [0.2222222222222222, \"#7201a8\"], [0.3333333333333333, \"#9c179e\"], [0.4444444444444444, \"#bd3786\"], [0.5555555555555556, \"#d8576b\"], [0.6666666666666666, \"#ed7953\"], [0.7777777777777778, \"#fb9f3a\"], [0.8888888888888888, \"#fdca26\"], [1.0, \"#f0f921\"]]}, \"colorway\": [\"#636efa\", \"#EF553B\", \"#00cc96\", \"#ab63fa\", \"#FFA15A\", \"#19d3f3\", \"#FF6692\", \"#B6E880\", \"#FF97FF\", \"#FECB52\"], \"font\": {\"color\": \"#2a3f5f\"}, \"geo\": {\"bgcolor\": \"white\", \"lakecolor\": \"white\", \"landcolor\": \"#E5ECF6\", \"showlakes\": true, \"showland\": true, \"subunitcolor\": \"white\"}, \"hoverlabel\": {\"align\": \"left\"}, \"hovermode\": \"closest\", \"mapbox\": {\"style\": \"light\"}, \"paper_bgcolor\": \"white\", \"plot_bgcolor\": \"#E5ECF6\", \"polar\": {\"angularaxis\": {\"gridcolor\": \"white\", \"linecolor\": \"white\", \"ticks\": \"\"}, \"bgcolor\": \"#E5ECF6\", \"radialaxis\": {\"gridcolor\": \"white\", \"linecolor\": \"white\", \"ticks\": \"\"}}, \"scene\": {\"xaxis\": {\"backgroundcolor\": \"#E5ECF6\", \"gridcolor\": \"white\", \"gridwidth\": 2, \"linecolor\": \"white\", \"showbackground\": true, \"ticks\": \"\", \"zerolinecolor\": \"white\"}, \"yaxis\": {\"backgroundcolor\": \"#E5ECF6\", \"gridcolor\": \"white\", \"gridwidth\": 2, \"linecolor\": \"white\", \"showbackground\": true, \"ticks\": \"\", \"zerolinecolor\": \"white\"}, \"zaxis\": {\"backgroundcolor\": \"#E5ECF6\", \"gridcolor\": \"white\", \"gridwidth\": 2, \"linecolor\": \"white\", \"showbackground\": true, \"ticks\": \"\", \"zerolinecolor\": \"white\"}}, \"shapedefaults\": {\"line\": {\"color\": \"#2a3f5f\"}}, \"ternary\": {\"aaxis\": {\"gridcolor\": \"white\", \"linecolor\": \"white\", \"ticks\": \"\"}, \"baxis\": {\"gridcolor\": \"white\", \"linecolor\": \"white\", \"ticks\": \"\"}, \"bgcolor\": \"#E5ECF6\", \"caxis\": {\"gridcolor\": \"white\", \"linecolor\": \"white\", \"ticks\": \"\"}}, \"title\": {\"x\": 0.05}, \"xaxis\": {\"automargin\": true, \"gridcolor\": \"white\", \"linecolor\": \"white\", \"ticks\": \"\", \"title\": {\"standoff\": 15}, \"zerolinecolor\": \"white\", \"zerolinewidth\": 2}, \"yaxis\": {\"automargin\": true, \"gridcolor\": \"white\", \"linecolor\": \"white\", \"ticks\": \"\", \"title\": {\"standoff\": 15}, \"zerolinecolor\": \"white\", \"zerolinewidth\": 2}}}, \"title\": {\"text\": \"Tweets by Language\"}},                        {\"responsive\": true}                    ).then(function(){\n",
       "                            \n",
       "var gd = document.getElementById('6dbbd54a-03bd-498d-8778-ee5d576bdb3f');\n",
       "var x = new MutationObserver(function (mutations, observer) {{\n",
       "        var display = window.getComputedStyle(gd).display;\n",
       "        if (!display || display === 'none') {{\n",
       "            console.log([gd, 'removed!']);\n",
       "            Plotly.purge(gd);\n",
       "            observer.disconnect();\n",
       "        }}\n",
       "}});\n",
       "\n",
       "// Listen for the removal of the full notebook cells\n",
       "var notebookContainer = gd.closest('#notebook-container');\n",
       "if (notebookContainer) {{\n",
       "    x.observe(notebookContainer, {childList: true});\n",
       "}}\n",
       "\n",
       "// Listen for the clearing of the current output cell\n",
       "var outputEl = gd.closest('.output');\n",
       "if (outputEl) {{\n",
       "    x.observe(outputEl, {childList: true});\n",
       "}}\n",
       "\n",
       "                        })                };                });            </script>        </div>"
      ]
     },
     "metadata": {},
     "output_type": "display_data"
    }
   ],
   "source": [
    "lang_counts = df.groupby('lang')['id'].count().to_frame().reset_index()\n",
    "lang_counts.columns = ['lang', 'count']\n",
    "lang_counts.sort_values(by='count', inplace=True, ascending=False)\n",
    "lang_counts.iloc[10:, :].loc[:, 'lang'] = 'other'\n",
    "fg = px.pie(lang_counts, values='count', names='lang', title='Tweets by Language')\n",
    "fg.write_image(os.path.join(PATH_OUT, 'plots/language-dist.svg'))\n",
    "fg.show()"
   ]
  },
  {
   "cell_type": "markdown",
   "metadata": {},
   "source": [
    "## User Attributes\n",
    "\n",
    "We now focus on the attributes of the users posting these tweets. Each tweet object contains information about the associated user, and we identified 3286 unique users. Apart from the readily available attributes such as the friend and follower counts of the users, we aggregate some more, such as the average number of likes or retweets received by their tweets in the dataset.\n",
    "\n",
    "We then plot a correlation heatmap of these attributes, looking for patterns such as *do users with lots of followers also follow lots of people* or *are tweets of users with lots of followers retweeted more often*. We also look at the role played by Twitter's *verified* user status.\n",
    "\n",
    "We only find a strong correlation between the `user_statuses_count` (total number of tweets posted) and each of `user_favorites_count` (number of tweets marked as favorite) and `user_listed_count` (number of public lists the user is a member of) indicating that amount of user activity shows across all forms of interactions Twitter allows (more active users have more tweets, favorites and appear on more lists and vice versa).\n",
    "\n",
    "Quite intuitively, tweets that are retweeted more are also liked more - which probably indicates that the tweet was 'good' and is also reminiscent of Twitter's algorithms that show already popular tweets at the top of the feed, increasing their chances of being further retweeted or liked.\n",
    "\n",
    "There is surprisingly very little correlation between the number of friends (number of people followed) and followers of a user. Some correlation between the number of followers and the verified status confirms that the status does add to the authenticity of the user, though only to some extent.\n",
    "\n",
    "**Note:** *Twitter does not require a minimum threshold for any of the above values for granting the 'verified' status. The 'activity' requirement only considers the last login date.*\n",
    "\n",
    "**Note:** *Plots showing the distribution of friends and followers of users are available on [twisualise](https://twisualise.herokuapp.com/). We find that most users have less than 1000 friends, though the number of followers is slightly larger.*"
   ]
  },
  {
   "cell_type": "code",
   "execution_count": 15,
   "metadata": {},
   "outputs": [],
   "source": [
    "filtered_df = df[['id', 'retweet_count', 'favorite_count', 'user', 'created_at', 'text']]\n",
    "filtered_df = filtered_df.assign(user_id=lambda x: x.user.apply(lambda y: y['id']),\n",
    "                   user_followers_count=lambda x: x.user.apply(lambda y: y['followers_count']),\n",
    "                   user_friends_count=lambda x: x.user.apply(lambda y: y['friends_count']),\n",
    "                   user_favorites_count=lambda x: x.user.apply(lambda y: y['favourites_count']),\n",
    "                   user_verified=lambda x: x.user.apply(lambda y: y['verified']),\n",
    "                   user_listed_count=lambda x: x.user.apply(lambda y: y['listed_count']),\n",
    "                   user_statuses_count=lambda x: x.user.apply(lambda y: y['statuses_count']),\n",
    "                   user_created_at=lambda x: x.user.apply(lambda y: y['created_at']))"
   ]
  },
  {
   "cell_type": "code",
   "execution_count": 16,
   "metadata": {},
   "outputs": [],
   "source": [
    "user_df = filtered_df[['user_id', 'user_followers_count', 'user_friends_count', 'user_favorites_count', 'user_listed_count', 'user_verified', 'user_statuses_count', 'user_created_at']].drop_duplicates(subset='user_id', ignore_index=True)\n",
    "user_df.set_index(keys='user_id', inplace=True, verify_integrity=True)"
   ]
  },
  {
   "cell_type": "code",
   "execution_count": 17,
   "metadata": {},
   "outputs": [],
   "source": [
    "agg_df = filtered_df[['user_id', 'retweet_count', 'favorite_count']]\n",
    "agg_df = agg_df.groupby('user_id').agg('mean')\n",
    "agg_df.columns = ['avg_retweet_count', 'avg_favorite_count']"
   ]
  },
  {
   "cell_type": "code",
   "execution_count": 18,
   "metadata": {},
   "outputs": [
    {
     "name": "stdout",
     "output_type": "stream",
     "text": [
      "<class 'pandas.core.frame.DataFrame'>\n",
      "Int64Index: 3286 entries, 861721644 to 1333550433692839936\n",
      "Data columns (total 9 columns):\n",
      " #   Column                Non-Null Count  Dtype  \n",
      "---  ------                --------------  -----  \n",
      " 0   user_followers_count  3286 non-null   int64  \n",
      " 1   user_friends_count    3286 non-null   int64  \n",
      " 2   user_favorites_count  3286 non-null   int64  \n",
      " 3   user_listed_count     3286 non-null   int64  \n",
      " 4   user_verified         3286 non-null   bool   \n",
      " 5   user_statuses_count   3286 non-null   int64  \n",
      " 6   user_created_at       3286 non-null   object \n",
      " 7   avg_retweet_count     3286 non-null   float64\n",
      " 8   avg_favorite_count    3286 non-null   float64\n",
      "dtypes: bool(1), float64(2), int64(5), object(1)\n",
      "memory usage: 234.3+ KB\n"
     ]
    }
   ],
   "source": [
    "user_df = user_df.join(agg_df, how='inner')\n",
    "user_df.info()"
   ]
  },
  {
   "cell_type": "code",
   "execution_count": 22,
   "metadata": {},
   "outputs": [
    {
     "data": {
      "image/png": "[encoded data removed]",
      "text/plain": [
       "<Figure size 600x400 with 2 Axes>"
      ]
     },
     "metadata": {},
     "output_type": "display_data"
    }
   ],
   "source": [
    "ax = sns.heatmap(user_df.corr(), annot=True, fmt='.1g', square=True)\n",
    "ax.set_title('Correlation Between User Attributes')\n",
    "fg = ax.get_figure()\n",
    "fg.patch.set_facecolor('white')\n",
    "fg.savefig(os.path.join(PATH_OUT, 'plots/user-corr.png'), dpi=200, bbox_inches='tight')\n",
    "plt.show()"
   ]
  },
  {
   "cell_type": "markdown",
   "metadata": {},
   "source": [
    "## Sentiment Analysis\n",
    "\n",
    "Here we perform a sentiment analysis of the tweet text, using the **Vader Lexicon** model, which is specifically fine-tuned to handling texts from social media (characterised by abundant use of emojis, slangs, expressive words and grammatically incomplete sentences).\n",
    "\n",
    "Due to the limitations of the model, we only consider tweets in the English language, and clean out URLS and usernames. Punctuations, stopwords and emojis are allowed to stay, because they heavily influence the sentiment of texts on social media, and Vader Lexicon is tuned to take them into consideration.\n",
    "\n",
    "The time series of tweet sentiments on the morning/afternoon (IST) of 19 December 2020 is plotted below (times in UTC). We find that roughly a third of the tweets are positive while a third are negative. A closer look at the tweet texts shows that several positive tweets express support for the farmers (for example, \"We stand with our farmers.\") while the negative ones express distaste towards the new laws or the lawmakers.\n",
    "\n",
    "**Note:** *Randomly picked examples of tweets categorised as positive and negative can be found on [twisualise](https://twisualise.herokuapp.com/). Because these tweets are picked from a large corpus of 2612 English language tweets, there are bound to be some misclassifications. Reload the page to see a different example.*"
   ]
  },
  {
   "cell_type": "code",
   "execution_count": 23,
   "metadata": {},
   "outputs": [
    {
     "name": "stdout",
     "output_type": "stream",
     "text": [
      "<class 'pandas.core.frame.DataFrame'>\n",
      "Int64Index: 2612 entries, 6 to 9996\n",
      "Data columns (total 4 columns):\n",
      " #   Column      Non-Null Count  Dtype              \n",
      "---  ------      --------------  -----              \n",
      " 0   text        2612 non-null   object             \n",
      " 1   lang        2612 non-null   object             \n",
      " 2   id          2612 non-null   int64              \n",
      " 3   created_at  2612 non-null   datetime64[ns, UTC]\n",
      "dtypes: datetime64[ns, UTC](1), int64(1), object(2)\n",
      "memory usage: 102.0+ KB\n"
     ]
    }
   ],
   "source": [
    "text_df = df[['text', 'lang', 'id', 'created_at']]\n",
    "text_df['created_at'] = pd.to_datetime(text_df['created_at'])\n",
    "text_df = text_df[text_df.lang == 'en']\n",
    "text_df.info()"
   ]
  },
  {
   "cell_type": "code",
   "execution_count": 24,
   "metadata": {},
   "outputs": [],
   "source": [
    "try:\n",
    "    senti = SentimentIntensityAnalyzer()\n",
    "except LookupError:\n",
    "    nltk.download('vader_lexicon')\n",
    "    senti = SentimentIntensityAnalyzer()"
   ]
  },
  {
   "cell_type": "code",
   "execution_count": 25,
   "metadata": {},
   "outputs": [],
   "source": [
    "def filter_pattern(text, pattern):\n",
    "    match = re.findall(pattern, text)\n",
    "    for m in match:\n",
    "        text = re.sub(m, ' ', text)\n",
    "    return text\n",
    "\n",
    "TWITTER_HANDLE_REGEX = '@\\\\w{1,15}'\n",
    "URL_REGEX = 'https?://[A-Za-z0-9./]*'\n",
    "\n",
    "text_df['text'] = text_df['text'].apply(filter_pattern, args=(TWITTER_HANDLE_REGEX, ))\n",
    "text_df['text'] = text_df['text'].apply(filter_pattern, args=(URL_REGEX, ))"
   ]
  },
  {
   "cell_type": "code",
   "execution_count": 26,
   "metadata": {},
   "outputs": [],
   "source": [
    "def calc_sentiment(text, senti):\n",
    "    res = senti.polarity_scores(text)\n",
    "    return res['neg'], res['neu'], res['pos'], res['compound']\n",
    "\n",
    "scores = text_df['text'].apply(calc_sentiment, args=(senti, )).apply(pd.Series)\n",
    "scores.columns = ['negative', 'neutral', 'positive', 'compound']\n",
    "text_df = text_df.join(scores, how='left') # on default index"
   ]
  },
  {
   "cell_type": "code",
   "execution_count": 27,
   "metadata": {},
   "outputs": [
    {
     "name": "stdout",
     "output_type": "stream",
     "text": [
      "<class 'pandas.core.frame.DataFrame'>\n",
      "Int64Index: 2612 entries, 6 to 9996\n",
      "Data columns (total 9 columns):\n",
      " #   Column      Non-Null Count  Dtype              \n",
      "---  ------      --------------  -----              \n",
      " 0   text        2612 non-null   object             \n",
      " 1   lang        2612 non-null   object             \n",
      " 2   id          2612 non-null   int64              \n",
      " 3   created_at  2612 non-null   datetime64[ns, UTC]\n",
      " 4   negative    2612 non-null   float64            \n",
      " 5   neutral     2612 non-null   float64            \n",
      " 6   positive    2612 non-null   float64            \n",
      " 7   compound    2612 non-null   float64            \n",
      " 8   sentiment   2612 non-null   object             \n",
      "dtypes: datetime64[ns, UTC](1), float64(4), int64(1), object(3)\n",
      "memory usage: 284.1+ KB\n"
     ]
    }
   ],
   "source": [
    "def categorise_sentiment(val):\n",
    "    # based on official paper: https://github.com/cjhutto/vaderSentiment#about-the-scoring\n",
    "    if val >= 0.05:\n",
    "        return 'Positive'\n",
    "    elif val > -0.05:\n",
    "        return 'Neutral'\n",
    "    else:\n",
    "        return 'Negative'\n",
    "\n",
    "text_df['sentiment'] = text_df['compound'].apply(categorise_sentiment)\n",
    "text_df.info()"
   ]
  },
  {
   "cell_type": "code",
   "execution_count": 29,
   "metadata": {},
   "outputs": [
    {
     "data": {
      "image/png": "[encoded data removed]",
      "text/plain": [
       "<Figure size 600x400 with 1 Axes>"
      ]
     },
     "metadata": {},
     "output_type": "display_data"
    }
   ],
   "source": [
    "ax = sns.kdeplot(data=text_df, x='created_at', hue='sentiment', multiple='fill', linewidth=0, alpha=0.6, palette='coolwarm', hue_order=('Positive', 'Neutral', 'Negative'))\n",
    "ax.xaxis.set_major_formatter(mpl.dates.DateFormatter('%H:%M'))\n",
    "ax.set_xlabel('UTC time on Dec 19, 2020')\n",
    "ax.set_title('Tweet Sentiment Density On Dec 19')\n",
    "fg = ax.get_figure()\n",
    "fg.patch.set_facecolor('white')\n",
    "fg.savefig(os.path.join(PATH_OUT, 'plots/sentiment-density.png'), dpi=200)\n",
    "plt.show()"
   ]
  },
  {
   "cell_type": "markdown",
   "metadata": {},
   "source": [
    "Text of some of the positively classified tweets."
   ]
  },
  {
   "cell_type": "code",
   "execution_count": 34,
   "metadata": {},
   "outputs": [
    {
     "data": {
      "text/plain": [
       "6                                                                                  Support farmers\\n#FarmersDoneWithModiJumlas  \n",
       "58                                                              So funny ..... Please stop this....😃#FarmersDoneWithModiJumlas  \n",
       "69                                                                         KEEP SUPPORTING FARMERS✊🌾\\n#FarmersDoneWithModiJumlas\n",
       "76      If the agriculture bill is for the benefit of farmers, then why is Adani promoting it ??\\n\\n That too by giving crore…  \n",
       "91                                                                        Stay strong, stay united\\n#FarmersDoneWithModiJumlas  \n",
       "                                                                  ...                                                           \n",
       "9932                                                                     Thanks for Supporting Sir\\n#FarmersDoneWithModiJumlas  \n",
       "9933                                                                                   Good one \\n\\n#FarmersDoneWithModiJumlas  \n",
       "9968      Will never understand when people talk about Punjabis internationally supporting the movement. Not our fault you wo…  \n",
       "9981                       Beauty of Kisan Morcha❤️❤️\\nIt’s uniting people.\\nStay Together, Grow Together 🙏🏻\\n\\n#DigitalKisan…  \n",
       "9987                                                 MP farmers got huge benefit. What about bihar farmers. Read this article…  \n",
       "Name: text, Length: 1002, dtype: object"
      ]
     },
     "metadata": {},
     "output_type": "display_data"
    }
   ],
   "source": [
    "full_display(text_df[text_df.sentiment == 'Positive']['text'])"
   ]
  },
  {
   "cell_type": "markdown",
   "metadata": {},
   "source": [
    "## Tweet Locations\n",
    "\n",
    "We now focus on the locations from where these tweets were made. Location data was available for only 249 of the tweets, and is generated by Twitter either using the upload point location, or if that's not available, using the location mentioned in the user's profile.\n",
    "\n",
    "We bin the locations into 30 hexagons using geographical proximity and plot on a world map. Naturally, the action is epicentered in North India, with some tweets coming from Canada and Australia.\n",
    "\n",
    "**Note:** *The below map is interactive. A map showing individual tweet locations can also be found on [twisualise](https://twisualise.herokuapp.com/).*"
   ]
  },
  {
   "cell_type": "code",
   "execution_count": 35,
   "metadata": {},
   "outputs": [
    {
     "data": {
      "application/vnd.plotly.v1+json": {
       "config": {
        "plotlyServerURL": "https://plot.ly"
       },
       "data": [
        {
         "coloraxis": "coloraxis",
         "customdata": [
          [
           8,
           "-2.1488499457427634,1.073678130275262",
           0
          ],
          [
           1,
           "-0.0685830986678182,1.073678130275262",
           0
          ],
          [
           1,
           "0.27812804251133905,0.7734174742390185",
           0
          ],
          [
           3,
           "0.9715503248696544,0.4731568182027752",
           0
          ],
          [
           148,
           "1.3182614660488117,0.4731568182027752",
           0
          ],
          [
           3,
           "1.4916170366383907,0.4731568182027752",
           0
          ],
          [
           1,
           "1.6649726072279694,0.4731568182027752",
           0
          ],
          [
           8,
           "2.5317504601758634,-0.7278858059421984",
           0
          ],
          [
           6,
           "2.7051060307654415,-0.427625149905955",
           0
          ],
          [
           1,
           "3.0518171719445997,-0.7278858059421984",
           0
          ],
          [
           1,
           "-2.062172160447974,0.6232871462208969",
           0
          ],
          [
           1,
           "-1.8888165898583953,0.6232871462208969",
           0
          ],
          [
           12,
           "-1.368749878089659,0.9235478022571404",
           0
          ],
          [
           1,
           "-1.0220387369105015,0.9235478022571404",
           0
          ],
          [
           3,
           "0.19145025721654996,0.9235478022571404",
           0
          ],
          [
           5,
           "1.2315836807540226,0.32302649018465357",
           0
          ],
          [
           20,
           "1.2315836807540226,0.6232871462208969",
           0
          ],
          [
           15,
           "1.4049392513436012,0.6232871462208969",
           0
          ],
          [
           1,
           "1.751650392522759,0.022765834148410047",
           0
          ],
          [
           8,
           "2.098361533701916,-0.5777554779240768",
           0
          ],
          [
           2,
           "2.6184282454706524,-0.5777554779240768",
           0
          ]
         ],
         "geojson": {
          "features": [
           {
            "geometry": {
             "coordinates": [
              [
               [
                -123.12003269797628,
                48.61448146816924
               ],
               [
                -118.15376142304373,
                50.47462712532657
               ],
               [
                -118.15376142304373,
                53.98465221083164
               ],
               [
                -123.12003269797628,
                55.63671941866766
               ],
               [
                -128.08630397290884,
                53.98465221083164
               ],
               [
                -128.08630397290884,
                50.47462712532657
               ],
               [
                -123.12003269797628,
                48.61448146816924
               ]
              ]
             ],
             "type": "Polygon"
            },
            "id": "-2.1488499457427634,1.073678130275262",
            "type": "Feature"
           },
           {
            "geometry": {
             "coordinates": [
              [
               [
                -3.9295220995952813,
                48.61448146816924
               ],
               [
                1.0367491753372602,
                50.47462712532657
               ],
               [
                1.0367491753372602,
                53.98465221083164
               ],
               [
                -3.9295220995952813,
                55.63671941866766
               ],
               [
                -8.895793374527821,
                53.98465221083164
               ],
               [
                -8.895793374527821,
                50.47462712532657
               ],
               [
                -3.9295220995952813,
                48.61448146816924
               ]
              ]
             ],
             "type": "Polygon"
            },
            "id": "-0.0685830986678182,1.073678130275262",
            "type": "Feature"
           },
           {
            "geometry": {
             "coordinates": [
              [
               [
                15.93556300013487,
                35.956189166817346
               ],
               [
                20.90183427506741,
                38.24277429996925
               ],
               [
                20.90183427506741,
                42.60569927568139
               ],
               [
                15.93556300013487,
                44.68029727912459
               ],
               [
                10.969291725202329,
                42.60569927568139
               ],
               [
                10.969291725202329,
                38.24277429996925
               ],
               [
                15.93556300013487,
                35.956189166817346
               ]
              ]
             ],
             "type": "Polygon"
            },
            "id": "0.27812804251133905,0.7734174742390185",
            "type": "Feature"
           },
           {
            "geometry": {
             "coordinates": [
              [
               [
                55.66573319959522,
                20.896076636398732
               ],
               [
                60.63200447452776,
                23.550052179675717
               ],
               [
                60.63200447452776,
                28.696257588014415
               ],
               [
                55.66573319959522,
                31.18060850524038
               ],
               [
                50.69946192466268,
                28.696257588014415
               ],
               [
                50.69946192466268,
                23.550052179675717
               ],
               [
                55.66573319959522,
                20.896076636398732
               ]
              ]
             ],
             "type": "Polygon"
            },
            "id": "0.9715503248696544,0.4731568182027752",
            "type": "Feature"
           },
           {
            "geometry": {
             "coordinates": [
              [
               [
                75.53081829932538,
                20.896076636398732
               ],
               [
                80.49708957425791,
                23.550052179675717
               ],
               [
                80.49708957425791,
                28.696257588014415
               ],
               [
                75.53081829932538,
                31.18060850524038
               ],
               [
                70.56454702439284,
                28.696257588014415
               ],
               [
                70.56454702439284,
                23.550052179675717
               ],
               [
                75.53081829932538,
                20.896076636398732
               ]
              ]
             ],
             "type": "Polygon"
            },
            "id": "1.3182614660488117,0.4731568182027752",
            "type": "Feature"
           },
           {
            "geometry": {
             "coordinates": [
              [
               [
                85.46336084919047,
                20.896076636398732
               ],
               [
                90.42963212412302,
                23.550052179675717
               ],
               [
                90.42963212412302,
                28.696257588014415
               ],
               [
                85.46336084919047,
                31.18060850524038
               ],
               [
                80.49708957425793,
                28.696257588014415
               ],
               [
                80.49708957425793,
                23.550052179675717
               ],
               [
                85.46336084919047,
                20.896076636398732
               ]
              ]
             ],
             "type": "Polygon"
            },
            "id": "1.4916170366383907,0.4731568182027752",
            "type": "Feature"
           },
           {
            "geometry": {
             "coordinates": [
              [
               [
                95.39590339905556,
                20.896076636398732
               ],
               [
                100.36217467398808,
                23.550052179675717
               ],
               [
                100.36217467398808,
                28.696257588014415
               ],
               [
                95.39590339905556,
                31.18060850524038
               ],
               [
                90.42963212412302,
                28.696257588014415
               ],
               [
                90.42963212412302,
                23.550052179675717
               ],
               [
                95.39590339905556,
                20.896076636398732
               ]
              ]
             ],
             "type": "Polygon"
            },
            "id": "1.6649726072279694,0.4731568182027752",
            "type": "Feature"
           },
           {
            "geometry": {
             "coordinates": [
              [
               [
                145.058616148381,
                -42.79567649600851
               ],
               [
                150.02488742331354,
                -40.656040439939424
               ],
               [
                150.02488742331354,
                -36.165163347938254
               ],
               [
                145.058616148381,
                -33.816489037969326
               ],
               [
                140.09234487344844,
                -36.165163347938254
               ],
               [
                140.09234487344844,
                -40.656040439939424
               ],
               [
                145.058616148381,
                -42.79567649600851
               ]
              ]
             ],
             "type": "Polygon"
            },
            "id": "2.5317504601758634,-0.7278858059421984",
            "type": "Feature"
           },
           {
            "geometry": {
             "coordinates": [
              [
               [
                154.99115869824604,
                -28.922766882977058
               ],
               [
                159.9574299731786,
                -26.383327849978492
               ],
               [
                159.9574299731786,
                -21.137385139524202
               ],
               [
                154.99115869824604,
                -18.439738258612408
               ],
               [
                150.0248874233135,
                -21.137385139524202
               ],
               [
                150.0248874233135,
                -26.383327849978492
               ],
               [
                154.99115869824604,
                -28.922766882977058
               ]
              ]
             ],
             "type": "Polygon"
            },
            "id": "2.7051060307654415,-0.427625149905955",
            "type": "Feature"
           },
           {
            "geometry": {
             "coordinates": [
              [
               [
                174.85624379797622,
                -42.79567649600851
               ],
               [
                179.8225150729088,
                -40.656040439939424
               ],
               [
                179.8225150729088,
                -36.165163347938254
               ],
               [
                174.85624379797622,
                -33.816489037969326
               ],
               [
                169.8899725230437,
                -36.165163347938254
               ],
               [
                169.8899725230437,
                -40.656040439939424
               ],
               [
                174.85624379797622,
                -42.79567649600851
               ]
              ]
             ],
             "type": "Polygon"
            },
            "id": "3.0518171719445997,-0.7278858059421984",
            "type": "Feature"
           },
           {
            "geometry": {
             "coordinates": [
              [
               [
                -118.15376142304373,
                28.696257588014415
               ],
               [
                -113.18749014811121,
                31.18060850524038
               ],
               [
                -113.18749014811121,
                35.956189166817346
               ],
               [
                -118.15376142304373,
                38.24277429996925
               ],
               [
                -123.12003269797628,
                35.956189166817346
               ],
               [
                -123.12003269797628,
                31.18060850524038
               ],
               [
                -118.15376142304373,
                28.696257588014415
               ]
              ]
             ],
             "type": "Polygon"
            },
            "id": "-2.062172160447974,0.6232871462208969",
            "type": "Feature"
           },
           {
            "geometry": {
             "coordinates": [
              [
               [
                -108.22121887317867,
                28.696257588014415
               ],
               [
                -103.25494759824612,
                31.18060850524038
               ],
               [
                -103.25494759824612,
                35.956189166817346
               ],
               [
                -108.22121887317867,
                38.24277429996925
               ],
               [
                -113.18749014811121,
                35.956189166817346
               ],
               [
                -113.18749014811121,
                31.18060850524038
               ],
               [
                -108.22121887317867,
                28.696257588014415
               ]
              ]
             ],
             "type": "Polygon"
            },
            "id": "-1.8888165898583953,0.6232871462208969",
            "type": "Feature"
           },
           {
            "geometry": {
             "coordinates": [
              [
               [
                -78.42359122358341,
                42.60569927568139
               ],
               [
                -73.45731994865088,
                44.68029727912459
               ],
               [
                -73.45731994865088,
                48.61448146816924
               ],
               [
                -78.42359122358341,
                50.47462712532657
               ],
               [
                -83.38986249851594,
                48.61448146816924
               ],
               [
                -83.38986249851594,
                44.68029727912459
               ],
               [
                -78.42359122358341,
                42.60569927568139
               ]
              ]
             ],
             "type": "Polygon"
            },
            "id": "-1.368749878089659,0.9235478022571404",
            "type": "Feature"
           },
           {
            "geometry": {
             "coordinates": [
              [
               [
                -58.55850612385325,
                42.60569927568139
               ],
               [
                -53.592234848920704,
                44.68029727912459
               ],
               [
                -53.592234848920704,
                48.61448146816924
               ],
               [
                -58.55850612385325,
                50.47462712532657
               ],
               [
                -63.52477739878578,
                48.61448146816924
               ],
               [
                -63.52477739878578,
                44.68029727912459
               ],
               [
                -58.55850612385325,
                42.60569927568139
               ]
              ]
             ],
             "type": "Polygon"
            },
            "id": "-1.0220387369105015,0.9235478022571404",
            "type": "Feature"
           },
           {
            "geometry": {
             "coordinates": [
              [
               [
                10.969291725202345,
                42.60569927568139
               ],
               [
                15.935563000134884,
                44.68029727912459
               ],
               [
                15.935563000134884,
                48.61448146816924
               ],
               [
                10.969291725202345,
                50.47462712532657
               ],
               [
                6.003020450269802,
                48.61448146816924
               ],
               [
                6.003020450269802,
                44.68029727912459
               ],
               [
                10.969291725202345,
                42.60569927568139
               ]
              ]
             ],
             "type": "Polygon"
            },
            "id": "0.19145025721654996,0.9235478022571404",
            "type": "Feature"
           },
           {
            "geometry": {
             "coordinates": [
              [
               [
                70.56454702439285,
                12.668982971081647
               ],
               [
                75.53081829932539,
                15.450061192312829
               ],
               [
                75.53081829932539,
                20.896076636398732
               ],
               [
                70.56454702439285,
                23.550052179675717
               ],
               [
                65.59827574946031,
                20.896076636398732
               ],
               [
                65.59827574946031,
                15.450061192312829
               ],
               [
                70.56454702439285,
                12.668982971081647
               ]
              ]
             ],
             "type": "Polygon"
            },
            "id": "1.2315836807540226,0.32302649018465357",
            "type": "Feature"
           },
           {
            "geometry": {
             "coordinates": [
              [
               [
                70.56454702439285,
                28.696257588014415
               ],
               [
                75.53081829932539,
                31.18060850524038
               ],
               [
                75.53081829932539,
                35.956189166817346
               ],
               [
                70.56454702439285,
                38.24277429996925
               ],
               [
                65.59827574946031,
                35.956189166817346
               ],
               [
                65.59827574946031,
                31.18060850524038
               ],
               [
                70.56454702439285,
                28.696257588014415
               ]
              ]
             ],
             "type": "Polygon"
            },
            "id": "1.2315836807540226,0.6232871462208969",
            "type": "Feature"
           },
           {
            "geometry": {
             "coordinates": [
              [
               [
                80.49708957425793,
                28.696257588014415
               ],
               [
                85.46336084919047,
                31.18060850524038
               ],
               [
                85.46336084919047,
                35.956189166817346
               ],
               [
                80.49708957425793,
                38.24277429996925
               ],
               [
                75.53081829932539,
                35.956189166817346
               ],
               [
                75.53081829932539,
                31.18060850524038
               ],
               [
                80.49708957425793,
                28.696257588014415
               ]
              ]
             ],
             "type": "Polygon"
            },
            "id": "1.4049392513436012,0.6232871462208969",
            "type": "Feature"
           },
           {
            "geometry": {
             "coordinates": [
              [
               [
                100.36217467398811,
                -4.425762159160977
               ],
               [
                105.32844594892063,
                -1.56269806341531
               ],
               [
                105.32844594892063,
                4.167983350483523
               ],
               [
                100.36217467398811,
                7.021302632364616
               ],
               [
                95.39590339905557,
                4.167983350483523
               ],
               [
                95.39590339905557,
                -1.56269806341531
               ],
               [
                100.36217467398811,
                -4.425762159160977
               ]
              ]
             ],
             "type": "Polygon"
            },
            "id": "1.751650392522759,0.022765834148410047",
            "type": "Feature"
           },
           {
            "geometry": {
             "coordinates": [
              [
               [
                120.22725977371826,
                -36.165163347938254
               ],
               [
                125.1935310486508,
                -33.816489037969326
               ],
               [
                125.1935310486508,
                -28.92276688297707
               ],
               [
                120.22725977371826,
                -26.383327849978492
               ],
               [
                115.26098849878571,
                -28.92276688297707
               ],
               [
                115.26098849878571,
                -33.816489037969326
               ],
               [
                120.22725977371826,
                -36.165163347938254
               ]
              ]
             ],
             "type": "Polygon"
            },
            "id": "2.098361533701916,-0.5777554779240768",
            "type": "Feature"
           },
           {
            "geometry": {
             "coordinates": [
              [
               [
                150.0248874233135,
                -36.165163347938254
               ],
               [
                154.99115869824604,
                -33.816489037969326
               ],
               [
                154.99115869824604,
                -28.92276688297707
               ],
               [
                150.0248874233135,
                -26.383327849978492
               ],
               [
                145.05861614838093,
                -28.92276688297707
               ],
               [
                145.05861614838093,
                -33.816489037969326
               ],
               [
                150.0248874233135,
                -36.165163347938254
               ]
              ]
             ],
             "type": "Polygon"
            },
            "id": "2.6184282454706524,-0.5777554779240768",
            "type": "Feature"
           }
          ],
          "type": "FeatureCollection"
         },
         "hovertemplate": "Tweet Count=%{z}<extra></extra>",
         "locations": [
          "-2.1488499457427634,1.073678130275262",
          "-0.0685830986678182,1.073678130275262",
          "0.27812804251133905,0.7734174742390185",
          "0.9715503248696544,0.4731568182027752",
          "1.3182614660488117,0.4731568182027752",
          "1.4916170366383907,0.4731568182027752",
          "1.6649726072279694,0.4731568182027752",
          "2.5317504601758634,-0.7278858059421984",
          "2.7051060307654415,-0.427625149905955",
          "3.0518171719445997,-0.7278858059421984",
          "-2.062172160447974,0.6232871462208969",
          "-1.8888165898583953,0.6232871462208969",
          "-1.368749878089659,0.9235478022571404",
          "-1.0220387369105015,0.9235478022571404",
          "0.19145025721654996,0.9235478022571404",
          "1.2315836807540226,0.32302649018465357",
          "1.2315836807540226,0.6232871462208969",
          "1.4049392513436012,0.6232871462208969",
          "1.751650392522759,0.022765834148410047",
          "2.098361533701916,-0.5777554779240768",
          "2.6184282454706524,-0.5777554779240768"
         ],
         "marker": {
          "opacity": 0.69
         },
         "name": "",
         "subplot": "mapbox",
         "type": "choroplethmapbox",
         "z": [
          8,
          1,
          1,
          3,
          148,
          3,
          1,
          8,
          6,
          1,
          1,
          1,
          12,
          1,
          3,
          5,
          20,
          15,
          1,
          8,
          2
         ]
        }
       ],
       "layout": {
        "coloraxis": {
         "cmax": 148,
         "cmin": 1,
         "colorbar": {
          "title": {
           "text": "Tweet Count"
          }
         },
         "colorscale": [
          [
           0,
           "rgb(211, 242, 163)"
          ],
          [
           0.16666666666666666,
           "rgb(151, 225, 150)"
          ],
          [
           0.3333333333333333,
           "rgb(108, 192, 139)"
          ],
          [
           0.5,
           "rgb(76, 155, 130)"
          ],
          [
           0.6666666666666666,
           "rgb(33, 122, 121)"
          ],
          [
           0.8333333333333334,
           "rgb(16, 89, 101)"
          ],
          [
           1,
           "rgb(7, 64, 80)"
          ]
         ]
        },
        "legend": {
         "tracegroupgap": 0
        },
        "mapbox": {
         "center": {
          "lat": 6.960938442875001,
          "lon": 25.868105550000003
         },
         "domain": {
          "x": [
           0,
           1
          ],
          "y": [
           0,
           1
          ]
         },
         "style": "open-street-map",
         "zoom": 0.08225159485014341
        },
        "template": {
         "data": {
          "bar": [
           {
            "error_x": {
             "color": "#2a3f5f"
            },
            "error_y": {
             "color": "#2a3f5f"
            },
            "marker": {
             "line": {
              "color": "#E5ECF6",
              "width": 0.5
             }
            },
            "type": "bar"
           }
          ],
          "barpolar": [
           {
            "marker": {
             "line": {
              "color": "#E5ECF6",
              "width": 0.5
             }
            },
            "type": "barpolar"
           }
          ],
          "carpet": [
           {
            "aaxis": {
             "endlinecolor": "#2a3f5f",
             "gridcolor": "white",
             "linecolor": "white",
             "minorgridcolor": "white",
             "startlinecolor": "#2a3f5f"
            },
            "baxis": {
             "endlinecolor": "#2a3f5f",
             "gridcolor": "white",
             "linecolor": "white",
             "minorgridcolor": "white",
             "startlinecolor": "#2a3f5f"
            },
            "type": "carpet"
           }
          ],
          "choropleth": [
           {
            "colorbar": {
             "outlinewidth": 0,
             "ticks": ""
            },
            "type": "choropleth"
           }
          ],
          "contour": [
           {
            "colorbar": {
             "outlinewidth": 0,
             "ticks": ""
            },
            "colorscale": [
             [
              0,
              "#0d0887"
             ],
             [
              0.1111111111111111,
              "#46039f"
             ],
             [
              0.2222222222222222,
              "#7201a8"
             ],
             [
              0.3333333333333333,
              "#9c179e"
             ],
             [
              0.4444444444444444,
              "#bd3786"
             ],
             [
              0.5555555555555556,
              "#d8576b"
             ],
             [
              0.6666666666666666,
              "#ed7953"
             ],
             [
              0.7777777777777778,
              "#fb9f3a"
             ],
             [
              0.8888888888888888,
              "#fdca26"
             ],
             [
              1,
              "#f0f921"
             ]
            ],
            "type": "contour"
           }
          ],
          "contourcarpet": [
           {
            "colorbar": {
             "outlinewidth": 0,
             "ticks": ""
            },
            "type": "contourcarpet"
           }
          ],
          "heatmap": [
           {
            "colorbar": {
             "outlinewidth": 0,
             "ticks": ""
            },
            "colorscale": [
             [
              0,
              "#0d0887"
             ],
             [
              0.1111111111111111,
              "#46039f"
             ],
             [
              0.2222222222222222,
              "#7201a8"
             ],
             [
              0.3333333333333333,
              "#9c179e"
             ],
             [
              0.4444444444444444,
              "#bd3786"
             ],
             [
              0.5555555555555556,
              "#d8576b"
             ],
             [
              0.6666666666666666,
              "#ed7953"
             ],
             [
              0.7777777777777778,
              "#fb9f3a"
             ],
             [
              0.8888888888888888,
              "#fdca26"
             ],
             [
              1,
              "#f0f921"
             ]
            ],
            "type": "heatmap"
           }
          ],
          "heatmapgl": [
           {
            "colorbar": {
             "outlinewidth": 0,
             "ticks": ""
            },
            "colorscale": [
             [
              0,
              "#0d0887"
             ],
             [
              0.1111111111111111,
              "#46039f"
             ],
             [
              0.2222222222222222,
              "#7201a8"
             ],
             [
              0.3333333333333333,
              "#9c179e"
             ],
             [
              0.4444444444444444,
              "#bd3786"
             ],
             [
              0.5555555555555556,
              "#d8576b"
             ],
             [
              0.6666666666666666,
              "#ed7953"
             ],
             [
              0.7777777777777778,
              "#fb9f3a"
             ],
             [
              0.8888888888888888,
              "#fdca26"
             ],
             [
              1,
              "#f0f921"
             ]
            ],
            "type": "heatmapgl"
           }
          ],
          "histogram": [
           {
            "marker": {
             "colorbar": {
              "outlinewidth": 0,
              "ticks": ""
             }
            },
            "type": "histogram"
           }
          ],
          "histogram2d": [
           {
            "colorbar": {
             "outlinewidth": 0,
             "ticks": ""
            },
            "colorscale": [
             [
              0,
              "#0d0887"
             ],
             [
              0.1111111111111111,
              "#46039f"
             ],
             [
              0.2222222222222222,
              "#7201a8"
             ],
             [
              0.3333333333333333,
              "#9c179e"
             ],
             [
              0.4444444444444444,
              "#bd3786"
             ],
             [
              0.5555555555555556,
              "#d8576b"
             ],
             [
              0.6666666666666666,
              "#ed7953"
             ],
             [
              0.7777777777777778,
              "#fb9f3a"
             ],
             [
              0.8888888888888888,
              "#fdca26"
             ],
             [
              1,
              "#f0f921"
             ]
            ],
            "type": "histogram2d"
           }
          ],
          "histogram2dcontour": [
           {
            "colorbar": {
             "outlinewidth": 0,
             "ticks": ""
            },
            "colorscale": [
             [
              0,
              "#0d0887"
             ],
             [
              0.1111111111111111,
              "#46039f"
             ],
             [
              0.2222222222222222,
              "#7201a8"
             ],
             [
              0.3333333333333333,
              "#9c179e"
             ],
             [
              0.4444444444444444,
              "#bd3786"
             ],
             [
              0.5555555555555556,
              "#d8576b"
             ],
             [
              0.6666666666666666,
              "#ed7953"
             ],
             [
              0.7777777777777778,
              "#fb9f3a"
             ],
             [
              0.8888888888888888,
              "#fdca26"
             ],
             [
              1,
              "#f0f921"
             ]
            ],
            "type": "histogram2dcontour"
           }
          ],
          "mesh3d": [
           {
            "colorbar": {
             "outlinewidth": 0,
             "ticks": ""
            },
            "type": "mesh3d"
           }
          ],
          "parcoords": [
           {
            "line": {
             "colorbar": {
              "outlinewidth": 0,
              "ticks": ""
             }
            },
            "type": "parcoords"
           }
          ],
          "pie": [
           {
            "automargin": true,
            "type": "pie"
           }
          ],
          "scatter": [
           {
            "marker": {
             "colorbar": {
              "outlinewidth": 0,
              "ticks": ""
             }
            },
            "type": "scatter"
           }
          ],
          "scatter3d": [
           {
            "line": {
             "colorbar": {
              "outlinewidth": 0,
              "ticks": ""
             }
            },
            "marker": {
             "colorbar": {
              "outlinewidth": 0,
              "ticks": ""
             }
            },
            "type": "scatter3d"
           }
          ],
          "scattercarpet": [
           {
            "marker": {
             "colorbar": {
              "outlinewidth": 0,
              "ticks": ""
             }
            },
            "type": "scattercarpet"
           }
          ],
          "scattergeo": [
           {
            "marker": {
             "colorbar": {
              "outlinewidth": 0,
              "ticks": ""
             }
            },
            "type": "scattergeo"
           }
          ],
          "scattergl": [
           {
            "marker": {
             "colorbar": {
              "outlinewidth": 0,
              "ticks": ""
             }
            },
            "type": "scattergl"
           }
          ],
          "scattermapbox": [
           {
            "marker": {
             "colorbar": {
              "outlinewidth": 0,
              "ticks": ""
             }
            },
            "type": "scattermapbox"
           }
          ],
          "scatterpolar": [
           {
            "marker": {
             "colorbar": {
              "outlinewidth": 0,
              "ticks": ""
             }
            },
            "type": "scatterpolar"
           }
          ],
          "scatterpolargl": [
           {
            "marker": {
             "colorbar": {
              "outlinewidth": 0,
              "ticks": ""
             }
            },
            "type": "scatterpolargl"
           }
          ],
          "scatterternary": [
           {
            "marker": {
             "colorbar": {
              "outlinewidth": 0,
              "ticks": ""
             }
            },
            "type": "scatterternary"
           }
          ],
          "surface": [
           {
            "colorbar": {
             "outlinewidth": 0,
             "ticks": ""
            },
            "colorscale": [
             [
              0,
              "#0d0887"
             ],
             [
              0.1111111111111111,
              "#46039f"
             ],
             [
              0.2222222222222222,
              "#7201a8"
             ],
             [
              0.3333333333333333,
              "#9c179e"
             ],
             [
              0.4444444444444444,
              "#bd3786"
             ],
             [
              0.5555555555555556,
              "#d8576b"
             ],
             [
              0.6666666666666666,
              "#ed7953"
             ],
             [
              0.7777777777777778,
              "#fb9f3a"
             ],
             [
              0.8888888888888888,
              "#fdca26"
             ],
             [
              1,
              "#f0f921"
             ]
            ],
            "type": "surface"
           }
          ],
          "table": [
           {
            "cells": {
             "fill": {
              "color": "#EBF0F8"
             },
             "line": {
              "color": "white"
             }
            },
            "header": {
             "fill": {
              "color": "#C8D4E3"
             },
             "line": {
              "color": "white"
             }
            },
            "type": "table"
           }
          ]
         },
         "layout": {
          "annotationdefaults": {
           "arrowcolor": "#2a3f5f",
           "arrowhead": 0,
           "arrowwidth": 1
          },
          "autotypenumbers": "strict",
          "coloraxis": {
           "colorbar": {
            "outlinewidth": 0,
            "ticks": ""
           }
          },
          "colorscale": {
           "diverging": [
            [
             0,
             "#8e0152"
            ],
            [
             0.1,
             "#c51b7d"
            ],
            [
             0.2,
             "#de77ae"
            ],
            [
             0.3,
             "#f1b6da"
            ],
            [
             0.4,
             "#fde0ef"
            ],
            [
             0.5,
             "#f7f7f7"
            ],
            [
             0.6,
             "#e6f5d0"
            ],
            [
             0.7,
             "#b8e186"
            ],
            [
             0.8,
             "#7fbc41"
            ],
            [
             0.9,
             "#4d9221"
            ],
            [
             1,
             "#276419"
            ]
           ],
           "sequential": [
            [
             0,
             "#0d0887"
            ],
            [
             0.1111111111111111,
             "#46039f"
            ],
            [
             0.2222222222222222,
             "#7201a8"
            ],
            [
             0.3333333333333333,
             "#9c179e"
            ],
            [
             0.4444444444444444,
             "#bd3786"
            ],
            [
             0.5555555555555556,
             "#d8576b"
            ],
            [
             0.6666666666666666,
             "#ed7953"
            ],
            [
             0.7777777777777778,
             "#fb9f3a"
            ],
            [
             0.8888888888888888,
             "#fdca26"
            ],
            [
             1,
             "#f0f921"
            ]
           ],
           "sequentialminus": [
            [
             0,
             "#0d0887"
            ],
            [
             0.1111111111111111,
             "#46039f"
            ],
            [
             0.2222222222222222,
             "#7201a8"
            ],
            [
             0.3333333333333333,
             "#9c179e"
            ],
            [
             0.4444444444444444,
             "#bd3786"
            ],
            [
             0.5555555555555556,
             "#d8576b"
            ],
            [
             0.6666666666666666,
             "#ed7953"
            ],
            [
             0.7777777777777778,
             "#fb9f3a"
            ],
            [
             0.8888888888888888,
             "#fdca26"
            ],
            [
             1,
             "#f0f921"
            ]
           ]
          },
          "colorway": [
           "#636efa",
           "#EF553B",
           "#00cc96",
           "#ab63fa",
           "#FFA15A",
           "#19d3f3",
           "#FF6692",
           "#B6E880",
           "#FF97FF",
           "#FECB52"
          ],
          "font": {
           "color": "#2a3f5f"
          },
          "geo": {
           "bgcolor": "white",
           "lakecolor": "white",
           "landcolor": "#E5ECF6",
           "showlakes": true,
           "showland": true,
           "subunitcolor": "white"
          },
          "hoverlabel": {
           "align": "left"
          },
          "hovermode": "closest",
          "mapbox": {
           "style": "light"
          },
          "paper_bgcolor": "white",
          "plot_bgcolor": "#E5ECF6",
          "polar": {
           "angularaxis": {
            "gridcolor": "white",
            "linecolor": "white",
            "ticks": ""
           },
           "bgcolor": "#E5ECF6",
           "radialaxis": {
            "gridcolor": "white",
            "linecolor": "white",
            "ticks": ""
           }
          },
          "scene": {
           "xaxis": {
            "backgroundcolor": "#E5ECF6",
            "gridcolor": "white",
            "gridwidth": 2,
            "linecolor": "white",
            "showbackground": true,
            "ticks": "",
            "zerolinecolor": "white"
           },
           "yaxis": {
            "backgroundcolor": "#E5ECF6",
            "gridcolor": "white",
            "gridwidth": 2,
            "linecolor": "white",
            "showbackground": true,
            "ticks": "",
            "zerolinecolor": "white"
           },
           "zaxis": {
            "backgroundcolor": "#E5ECF6",
            "gridcolor": "white",
            "gridwidth": 2,
            "linecolor": "white",
            "showbackground": true,
            "ticks": "",
            "zerolinecolor": "white"
           }
          },
          "shapedefaults": {
           "line": {
            "color": "#2a3f5f"
           }
          },
          "ternary": {
           "aaxis": {
            "gridcolor": "white",
            "linecolor": "white",
            "ticks": ""
           },
           "baxis": {
            "gridcolor": "white",
            "linecolor": "white",
            "ticks": ""
           },
           "bgcolor": "#E5ECF6",
           "caxis": {
            "gridcolor": "white",
            "linecolor": "white",
            "ticks": ""
           }
          },
          "title": {
           "x": 0.05
          },
          "xaxis": {
           "automargin": true,
           "gridcolor": "white",
           "linecolor": "white",
           "ticks": "",
           "title": {
            "standoff": 15
           },
           "zerolinecolor": "white",
           "zerolinewidth": 2
          },
          "yaxis": {
           "automargin": true,
           "gridcolor": "white",
           "linecolor": "white",
           "ticks": "",
           "title": {
            "standoff": 15
           },
           "zerolinecolor": "white",
           "zerolinewidth": 2
          }
         }
        },
        "title": {
         "text": "Tweet Locations"
        }
       }
      },
      "text/html": [
       "<div>                            <div id=\"e6839b5b-af31-418e-a7fb-f49f173542ed\" class=\"plotly-graph-div\" style=\"height:525px; width:100%;\"></div>            <script type=\"text/javascript\">                require([\"plotly\"], function(Plotly) {                    window.PLOTLYENV=window.PLOTLYENV || {};                                    if (document.getElementById(\"e6839b5b-af31-418e-a7fb-f49f173542ed\")) {                    Plotly.newPlot(                        \"e6839b5b-af31-418e-a7fb-f49f173542ed\",                        [{\"coloraxis\": \"coloraxis\", \"customdata\": [[8.0, \"-2.1488499457427634,1.073678130275262\", 0], [1.0, \"-0.0685830986678182,1.073678130275262\", 0], [1.0, \"0.27812804251133905,0.7734174742390185\", 0], [3.0, \"0.9715503248696544,0.4731568182027752\", 0], [148.0, \"1.3182614660488117,0.4731568182027752\", 0], [3.0, \"1.4916170366383907,0.4731568182027752\", 0], [1.0, \"1.6649726072279694,0.4731568182027752\", 0], [8.0, \"2.5317504601758634,-0.7278858059421984\", 0], [6.0, \"2.7051060307654415,-0.427625149905955\", 0], [1.0, \"3.0518171719445997,-0.7278858059421984\", 0], [1.0, \"-2.062172160447974,0.6232871462208969\", 0], [1.0, \"-1.8888165898583953,0.6232871462208969\", 0], [12.0, \"-1.368749878089659,0.9235478022571404\", 0], [1.0, \"-1.0220387369105015,0.9235478022571404\", 0], [3.0, \"0.19145025721654996,0.9235478022571404\", 0], [5.0, \"1.2315836807540226,0.32302649018465357\", 0], [20.0, \"1.2315836807540226,0.6232871462208969\", 0], [15.0, \"1.4049392513436012,0.6232871462208969\", 0], [1.0, \"1.751650392522759,0.022765834148410047\", 0], [8.0, \"2.098361533701916,-0.5777554779240768\", 0], [2.0, \"2.6184282454706524,-0.5777554779240768\", 0]], \"geojson\": {\"features\": [{\"geometry\": {\"coordinates\": [[[-123.12003269797628, 48.61448146816924], [-118.15376142304373, 50.47462712532657], [-118.15376142304373, 53.98465221083164], [-123.12003269797628, 55.63671941866766], [-128.08630397290884, 53.98465221083164], [-128.08630397290884, 50.47462712532657], [-123.12003269797628, 48.61448146816924]]], \"type\": \"Polygon\"}, \"id\": \"-2.1488499457427634,1.073678130275262\", \"type\": \"Feature\"}, {\"geometry\": {\"coordinates\": [[[-3.9295220995952813, 48.61448146816924], [1.0367491753372602, 50.47462712532657], [1.0367491753372602, 53.98465221083164], [-3.9295220995952813, 55.63671941866766], [-8.895793374527821, 53.98465221083164], [-8.895793374527821, 50.47462712532657], [-3.9295220995952813, 48.61448146816924]]], \"type\": \"Polygon\"}, \"id\": \"-0.0685830986678182,1.073678130275262\", \"type\": \"Feature\"}, {\"geometry\": {\"coordinates\": [[[15.93556300013487, 35.956189166817346], [20.90183427506741, 38.24277429996925], [20.90183427506741, 42.60569927568139], [15.93556300013487, 44.68029727912459], [10.969291725202329, 42.60569927568139], [10.969291725202329, 38.24277429996925], [15.93556300013487, 35.956189166817346]]], \"type\": \"Polygon\"}, \"id\": \"0.27812804251133905,0.7734174742390185\", \"type\": \"Feature\"}, {\"geometry\": {\"coordinates\": [[[55.66573319959522, 20.896076636398732], [60.63200447452776, 23.550052179675717], [60.63200447452776, 28.696257588014415], [55.66573319959522, 31.18060850524038], [50.69946192466268, 28.696257588014415], [50.69946192466268, 23.550052179675717], [55.66573319959522, 20.896076636398732]]], \"type\": \"Polygon\"}, \"id\": \"0.9715503248696544,0.4731568182027752\", \"type\": \"Feature\"}, {\"geometry\": {\"coordinates\": [[[75.53081829932538, 20.896076636398732], [80.49708957425791, 23.550052179675717], [80.49708957425791, 28.696257588014415], [75.53081829932538, 31.18060850524038], [70.56454702439284, 28.696257588014415], [70.56454702439284, 23.550052179675717], [75.53081829932538, 20.896076636398732]]], \"type\": \"Polygon\"}, \"id\": \"1.3182614660488117,0.4731568182027752\", \"type\": \"Feature\"}, {\"geometry\": {\"coordinates\": [[[85.46336084919047, 20.896076636398732], [90.42963212412302, 23.550052179675717], [90.42963212412302, 28.696257588014415], [85.46336084919047, 31.18060850524038], [80.49708957425793, 28.696257588014415], [80.49708957425793, 23.550052179675717], [85.46336084919047, 20.896076636398732]]], \"type\": \"Polygon\"}, \"id\": \"1.4916170366383907,0.4731568182027752\", \"type\": \"Feature\"}, {\"geometry\": {\"coordinates\": [[[95.39590339905556, 20.896076636398732], [100.36217467398808, 23.550052179675717], [100.36217467398808, 28.696257588014415], [95.39590339905556, 31.18060850524038], [90.42963212412302, 28.696257588014415], [90.42963212412302, 23.550052179675717], [95.39590339905556, 20.896076636398732]]], \"type\": \"Polygon\"}, \"id\": \"1.6649726072279694,0.4731568182027752\", \"type\": \"Feature\"}, {\"geometry\": {\"coordinates\": [[[145.058616148381, -42.79567649600851], [150.02488742331354, -40.656040439939424], [150.02488742331354, -36.165163347938254], [145.058616148381, -33.816489037969326], [140.09234487344844, -36.165163347938254], [140.09234487344844, -40.656040439939424], [145.058616148381, -42.79567649600851]]], \"type\": \"Polygon\"}, \"id\": \"2.5317504601758634,-0.7278858059421984\", \"type\": \"Feature\"}, {\"geometry\": {\"coordinates\": [[[154.99115869824604, -28.922766882977058], [159.9574299731786, -26.383327849978492], [159.9574299731786, -21.137385139524202], [154.99115869824604, -18.439738258612408], [150.0248874233135, -21.137385139524202], [150.0248874233135, -26.383327849978492], [154.99115869824604, -28.922766882977058]]], \"type\": \"Polygon\"}, \"id\": \"2.7051060307654415,-0.427625149905955\", \"type\": \"Feature\"}, {\"geometry\": {\"coordinates\": [[[174.85624379797622, -42.79567649600851], [179.8225150729088, -40.656040439939424], [179.8225150729088, -36.165163347938254], [174.85624379797622, -33.816489037969326], [169.8899725230437, -36.165163347938254], [169.8899725230437, -40.656040439939424], [174.85624379797622, -42.79567649600851]]], \"type\": \"Polygon\"}, \"id\": \"3.0518171719445997,-0.7278858059421984\", \"type\": \"Feature\"}, {\"geometry\": {\"coordinates\": [[[-118.15376142304373, 28.696257588014415], [-113.18749014811121, 31.18060850524038], [-113.18749014811121, 35.956189166817346], [-118.15376142304373, 38.24277429996925], [-123.12003269797628, 35.956189166817346], [-123.12003269797628, 31.18060850524038], [-118.15376142304373, 28.696257588014415]]], \"type\": \"Polygon\"}, \"id\": \"-2.062172160447974,0.6232871462208969\", \"type\": \"Feature\"}, {\"geometry\": {\"coordinates\": [[[-108.22121887317867, 28.696257588014415], [-103.25494759824612, 31.18060850524038], [-103.25494759824612, 35.956189166817346], [-108.22121887317867, 38.24277429996925], [-113.18749014811121, 35.956189166817346], [-113.18749014811121, 31.18060850524038], [-108.22121887317867, 28.696257588014415]]], \"type\": \"Polygon\"}, \"id\": \"-1.8888165898583953,0.6232871462208969\", \"type\": \"Feature\"}, {\"geometry\": {\"coordinates\": [[[-78.42359122358341, 42.60569927568139], [-73.45731994865088, 44.68029727912459], [-73.45731994865088, 48.61448146816924], [-78.42359122358341, 50.47462712532657], [-83.38986249851594, 48.61448146816924], [-83.38986249851594, 44.68029727912459], [-78.42359122358341, 42.60569927568139]]], \"type\": \"Polygon\"}, \"id\": \"-1.368749878089659,0.9235478022571404\", \"type\": \"Feature\"}, {\"geometry\": {\"coordinates\": [[[-58.55850612385325, 42.60569927568139], [-53.592234848920704, 44.68029727912459], [-53.592234848920704, 48.61448146816924], [-58.55850612385325, 50.47462712532657], [-63.52477739878578, 48.61448146816924], [-63.52477739878578, 44.68029727912459], [-58.55850612385325, 42.60569927568139]]], \"type\": \"Polygon\"}, \"id\": \"-1.0220387369105015,0.9235478022571404\", \"type\": \"Feature\"}, {\"geometry\": {\"coordinates\": [[[10.969291725202345, 42.60569927568139], [15.935563000134884, 44.68029727912459], [15.935563000134884, 48.61448146816924], [10.969291725202345, 50.47462712532657], [6.003020450269802, 48.61448146816924], [6.003020450269802, 44.68029727912459], [10.969291725202345, 42.60569927568139]]], \"type\": \"Polygon\"}, \"id\": \"0.19145025721654996,0.9235478022571404\", \"type\": \"Feature\"}, {\"geometry\": {\"coordinates\": [[[70.56454702439285, 12.668982971081647], [75.53081829932539, 15.450061192312829], [75.53081829932539, 20.896076636398732], [70.56454702439285, 23.550052179675717], [65.59827574946031, 20.896076636398732], [65.59827574946031, 15.450061192312829], [70.56454702439285, 12.668982971081647]]], \"type\": \"Polygon\"}, \"id\": \"1.2315836807540226,0.32302649018465357\", \"type\": \"Feature\"}, {\"geometry\": {\"coordinates\": [[[70.56454702439285, 28.696257588014415], [75.53081829932539, 31.18060850524038], [75.53081829932539, 35.956189166817346], [70.56454702439285, 38.24277429996925], [65.59827574946031, 35.956189166817346], [65.59827574946031, 31.18060850524038], [70.56454702439285, 28.696257588014415]]], \"type\": \"Polygon\"}, \"id\": \"1.2315836807540226,0.6232871462208969\", \"type\": \"Feature\"}, {\"geometry\": {\"coordinates\": [[[80.49708957425793, 28.696257588014415], [85.46336084919047, 31.18060850524038], [85.46336084919047, 35.956189166817346], [80.49708957425793, 38.24277429996925], [75.53081829932539, 35.956189166817346], [75.53081829932539, 31.18060850524038], [80.49708957425793, 28.696257588014415]]], \"type\": \"Polygon\"}, \"id\": \"1.4049392513436012,0.6232871462208969\", \"type\": \"Feature\"}, {\"geometry\": {\"coordinates\": [[[100.36217467398811, -4.425762159160977], [105.32844594892063, -1.56269806341531], [105.32844594892063, 4.167983350483523], [100.36217467398811, 7.021302632364616], [95.39590339905557, 4.167983350483523], [95.39590339905557, -1.56269806341531], [100.36217467398811, -4.425762159160977]]], \"type\": \"Polygon\"}, \"id\": \"1.751650392522759,0.022765834148410047\", \"type\": \"Feature\"}, {\"geometry\": {\"coordinates\": [[[120.22725977371826, -36.165163347938254], [125.1935310486508, -33.816489037969326], [125.1935310486508, -28.92276688297707], [120.22725977371826, -26.383327849978492], [115.26098849878571, -28.92276688297707], [115.26098849878571, -33.816489037969326], [120.22725977371826, -36.165163347938254]]], \"type\": \"Polygon\"}, \"id\": \"2.098361533701916,-0.5777554779240768\", \"type\": \"Feature\"}, {\"geometry\": {\"coordinates\": [[[150.0248874233135, -36.165163347938254], [154.99115869824604, -33.816489037969326], [154.99115869824604, -28.92276688297707], [150.0248874233135, -26.383327849978492], [145.05861614838093, -28.92276688297707], [145.05861614838093, -33.816489037969326], [150.0248874233135, -36.165163347938254]]], \"type\": \"Polygon\"}, \"id\": \"2.6184282454706524,-0.5777554779240768\", \"type\": \"Feature\"}], \"type\": \"FeatureCollection\"}, \"hovertemplate\": \"Tweet Count=%{z}<extra></extra>\", \"locations\": [\"-2.1488499457427634,1.073678130275262\", \"-0.0685830986678182,1.073678130275262\", \"0.27812804251133905,0.7734174742390185\", \"0.9715503248696544,0.4731568182027752\", \"1.3182614660488117,0.4731568182027752\", \"1.4916170366383907,0.4731568182027752\", \"1.6649726072279694,0.4731568182027752\", \"2.5317504601758634,-0.7278858059421984\", \"2.7051060307654415,-0.427625149905955\", \"3.0518171719445997,-0.7278858059421984\", \"-2.062172160447974,0.6232871462208969\", \"-1.8888165898583953,0.6232871462208969\", \"-1.368749878089659,0.9235478022571404\", \"-1.0220387369105015,0.9235478022571404\", \"0.19145025721654996,0.9235478022571404\", \"1.2315836807540226,0.32302649018465357\", \"1.2315836807540226,0.6232871462208969\", \"1.4049392513436012,0.6232871462208969\", \"1.751650392522759,0.022765834148410047\", \"2.098361533701916,-0.5777554779240768\", \"2.6184282454706524,-0.5777554779240768\"], \"marker\": {\"opacity\": 0.69}, \"name\": \"\", \"subplot\": \"mapbox\", \"type\": \"choroplethmapbox\", \"z\": [8.0, 1.0, 1.0, 3.0, 148.0, 3.0, 1.0, 8.0, 6.0, 1.0, 1.0, 1.0, 12.0, 1.0, 3.0, 5.0, 20.0, 15.0, 1.0, 8.0, 2.0]}],                        {\"coloraxis\": {\"cmax\": 148.0, \"cmin\": 1.0, \"colorbar\": {\"title\": {\"text\": \"Tweet Count\"}}, \"colorscale\": [[0.0, \"rgb(211, 242, 163)\"], [0.16666666666666666, \"rgb(151, 225, 150)\"], [0.3333333333333333, \"rgb(108, 192, 139)\"], [0.5, \"rgb(76, 155, 130)\"], [0.6666666666666666, \"rgb(33, 122, 121)\"], [0.8333333333333334, \"rgb(16, 89, 101)\"], [1.0, \"rgb(7, 64, 80)\"]]}, \"legend\": {\"tracegroupgap\": 0}, \"mapbox\": {\"center\": {\"lat\": 6.960938442875001, \"lon\": 25.868105550000003}, \"domain\": {\"x\": [0.0, 1.0], \"y\": [0.0, 1.0]}, \"style\": \"open-street-map\", \"zoom\": 0.08225159485014341}, \"template\": {\"data\": {\"bar\": [{\"error_x\": {\"color\": \"#2a3f5f\"}, \"error_y\": {\"color\": \"#2a3f5f\"}, \"marker\": {\"line\": {\"color\": \"#E5ECF6\", \"width\": 0.5}}, \"type\": \"bar\"}], \"barpolar\": [{\"marker\": {\"line\": {\"color\": \"#E5ECF6\", \"width\": 0.5}}, \"type\": \"barpolar\"}], \"carpet\": [{\"aaxis\": {\"endlinecolor\": \"#2a3f5f\", \"gridcolor\": \"white\", \"linecolor\": \"white\", \"minorgridcolor\": \"white\", \"startlinecolor\": \"#2a3f5f\"}, \"baxis\": {\"endlinecolor\": \"#2a3f5f\", \"gridcolor\": \"white\", \"linecolor\": \"white\", \"minorgridcolor\": \"white\", \"startlinecolor\": \"#2a3f5f\"}, \"type\": \"carpet\"}], \"choropleth\": [{\"colorbar\": {\"outlinewidth\": 0, \"ticks\": \"\"}, \"type\": \"choropleth\"}], \"contour\": [{\"colorbar\": {\"outlinewidth\": 0, \"ticks\": \"\"}, \"colorscale\": [[0.0, \"#0d0887\"], [0.1111111111111111, \"#46039f\"], [0.2222222222222222, \"#7201a8\"], [0.3333333333333333, \"#9c179e\"], [0.4444444444444444, \"#bd3786\"], [0.5555555555555556, \"#d8576b\"], [0.6666666666666666, \"#ed7953\"], [0.7777777777777778, \"#fb9f3a\"], [0.8888888888888888, \"#fdca26\"], [1.0, \"#f0f921\"]], \"type\": \"contour\"}], \"contourcarpet\": [{\"colorbar\": {\"outlinewidth\": 0, \"ticks\": \"\"}, \"type\": \"contourcarpet\"}], \"heatmap\": [{\"colorbar\": {\"outlinewidth\": 0, \"ticks\": \"\"}, \"colorscale\": [[0.0, \"#0d0887\"], [0.1111111111111111, \"#46039f\"], [0.2222222222222222, \"#7201a8\"], [0.3333333333333333, \"#9c179e\"], [0.4444444444444444, \"#bd3786\"], [0.5555555555555556, \"#d8576b\"], [0.6666666666666666, \"#ed7953\"], [0.7777777777777778, \"#fb9f3a\"], [0.8888888888888888, \"#fdca26\"], [1.0, \"#f0f921\"]], \"type\": \"heatmap\"}], \"heatmapgl\": [{\"colorbar\": {\"outlinewidth\": 0, \"ticks\": \"\"}, \"colorscale\": [[0.0, \"#0d0887\"], [0.1111111111111111, \"#46039f\"], [0.2222222222222222, \"#7201a8\"], [0.3333333333333333, \"#9c179e\"], [0.4444444444444444, \"#bd3786\"], [0.5555555555555556, \"#d8576b\"], [0.6666666666666666, \"#ed7953\"], [0.7777777777777778, \"#fb9f3a\"], [0.8888888888888888, \"#fdca26\"], [1.0, \"#f0f921\"]], \"type\": \"heatmapgl\"}], \"histogram\": [{\"marker\": {\"colorbar\": {\"outlinewidth\": 0, \"ticks\": \"\"}}, \"type\": \"histogram\"}], \"histogram2d\": [{\"colorbar\": {\"outlinewidth\": 0, \"ticks\": \"\"}, \"colorscale\": [[0.0, \"#0d0887\"], [0.1111111111111111, \"#46039f\"], [0.2222222222222222, \"#7201a8\"], [0.3333333333333333, \"#9c179e\"], [0.4444444444444444, \"#bd3786\"], [0.5555555555555556, \"#d8576b\"], [0.6666666666666666, \"#ed7953\"], [0.7777777777777778, \"#fb9f3a\"], [0.8888888888888888, \"#fdca26\"], [1.0, \"#f0f921\"]], \"type\": \"histogram2d\"}], \"histogram2dcontour\": [{\"colorbar\": {\"outlinewidth\": 0, \"ticks\": \"\"}, \"colorscale\": [[0.0, \"#0d0887\"], [0.1111111111111111, \"#46039f\"], [0.2222222222222222, \"#7201a8\"], [0.3333333333333333, \"#9c179e\"], [0.4444444444444444, \"#bd3786\"], [0.5555555555555556, \"#d8576b\"], [0.6666666666666666, \"#ed7953\"], [0.7777777777777778, \"#fb9f3a\"], [0.8888888888888888, \"#fdca26\"], [1.0, \"#f0f921\"]], \"type\": \"histogram2dcontour\"}], \"mesh3d\": [{\"colorbar\": {\"outlinewidth\": 0, \"ticks\": \"\"}, \"type\": \"mesh3d\"}], \"parcoords\": [{\"line\": {\"colorbar\": {\"outlinewidth\": 0, \"ticks\": \"\"}}, \"type\": \"parcoords\"}], \"pie\": [{\"automargin\": true, \"type\": \"pie\"}], \"scatter\": [{\"marker\": {\"colorbar\": {\"outlinewidth\": 0, \"ticks\": \"\"}}, \"type\": \"scatter\"}], \"scatter3d\": [{\"line\": {\"colorbar\": {\"outlinewidth\": 0, \"ticks\": \"\"}}, \"marker\": {\"colorbar\": {\"outlinewidth\": 0, \"ticks\": \"\"}}, \"type\": \"scatter3d\"}], \"scattercarpet\": [{\"marker\": {\"colorbar\": {\"outlinewidth\": 0, \"ticks\": \"\"}}, \"type\": \"scattercarpet\"}], \"scattergeo\": [{\"marker\": {\"colorbar\": {\"outlinewidth\": 0, \"ticks\": \"\"}}, \"type\": \"scattergeo\"}], \"scattergl\": [{\"marker\": {\"colorbar\": {\"outlinewidth\": 0, \"ticks\": \"\"}}, \"type\": \"scattergl\"}], \"scattermapbox\": [{\"marker\": {\"colorbar\": {\"outlinewidth\": 0, \"ticks\": \"\"}}, \"type\": \"scattermapbox\"}], \"scatterpolar\": [{\"marker\": {\"colorbar\": {\"outlinewidth\": 0, \"ticks\": \"\"}}, \"type\": \"scatterpolar\"}], \"scatterpolargl\": [{\"marker\": {\"colorbar\": {\"outlinewidth\": 0, \"ticks\": \"\"}}, \"type\": \"scatterpolargl\"}], \"scatterternary\": [{\"marker\": {\"colorbar\": {\"outlinewidth\": 0, \"ticks\": \"\"}}, \"type\": \"scatterternary\"}], \"surface\": [{\"colorbar\": {\"outlinewidth\": 0, \"ticks\": \"\"}, \"colorscale\": [[0.0, \"#0d0887\"], [0.1111111111111111, \"#46039f\"], [0.2222222222222222, \"#7201a8\"], [0.3333333333333333, \"#9c179e\"], [0.4444444444444444, \"#bd3786\"], [0.5555555555555556, \"#d8576b\"], [0.6666666666666666, \"#ed7953\"], [0.7777777777777778, \"#fb9f3a\"], [0.8888888888888888, \"#fdca26\"], [1.0, \"#f0f921\"]], \"type\": \"surface\"}], \"table\": [{\"cells\": {\"fill\": {\"color\": \"#EBF0F8\"}, \"line\": {\"color\": \"white\"}}, \"header\": {\"fill\": {\"color\": \"#C8D4E3\"}, \"line\": {\"color\": \"white\"}}, \"type\": \"table\"}]}, \"layout\": {\"annotationdefaults\": {\"arrowcolor\": \"#2a3f5f\", \"arrowhead\": 0, \"arrowwidth\": 1}, \"autotypenumbers\": \"strict\", \"coloraxis\": {\"colorbar\": {\"outlinewidth\": 0, \"ticks\": \"\"}}, \"colorscale\": {\"diverging\": [[0, \"#8e0152\"], [0.1, \"#c51b7d\"], [0.2, \"#de77ae\"], [0.3, \"#f1b6da\"], [0.4, \"#fde0ef\"], [0.5, \"#f7f7f7\"], [0.6, \"#e6f5d0\"], [0.7, \"#b8e186\"], [0.8, \"#7fbc41\"], [0.9, \"#4d9221\"], [1, \"#276419\"]], \"sequential\": [[0.0, \"#0d0887\"], [0.1111111111111111, \"#46039f\"], [0.2222222222222222, \"#7201a8\"], [0.3333333333333333, \"#9c179e\"], [0.4444444444444444, \"#bd3786\"], [0.5555555555555556, \"#d8576b\"], [0.6666666666666666, \"#ed7953\"], [0.7777777777777778, \"#fb9f3a\"], [0.8888888888888888, \"#fdca26\"], [1.0, \"#f0f921\"]], \"sequentialminus\": [[0.0, \"#0d0887\"], [0.1111111111111111, \"#46039f\"], [0.2222222222222222, \"#7201a8\"], [0.3333333333333333, \"#9c179e\"], [0.4444444444444444, \"#bd3786\"], [0.5555555555555556, \"#d8576b\"], [0.6666666666666666, \"#ed7953\"], [0.7777777777777778, \"#fb9f3a\"], [0.8888888888888888, \"#fdca26\"], [1.0, \"#f0f921\"]]}, \"colorway\": [\"#636efa\", \"#EF553B\", \"#00cc96\", \"#ab63fa\", \"#FFA15A\", \"#19d3f3\", \"#FF6692\", \"#B6E880\", \"#FF97FF\", \"#FECB52\"], \"font\": {\"color\": \"#2a3f5f\"}, \"geo\": {\"bgcolor\": \"white\", \"lakecolor\": \"white\", \"landcolor\": \"#E5ECF6\", \"showlakes\": true, \"showland\": true, \"subunitcolor\": \"white\"}, \"hoverlabel\": {\"align\": \"left\"}, \"hovermode\": \"closest\", \"mapbox\": {\"style\": \"light\"}, \"paper_bgcolor\": \"white\", \"plot_bgcolor\": \"#E5ECF6\", \"polar\": {\"angularaxis\": {\"gridcolor\": \"white\", \"linecolor\": \"white\", \"ticks\": \"\"}, \"bgcolor\": \"#E5ECF6\", \"radialaxis\": {\"gridcolor\": \"white\", \"linecolor\": \"white\", \"ticks\": \"\"}}, \"scene\": {\"xaxis\": {\"backgroundcolor\": \"#E5ECF6\", \"gridcolor\": \"white\", \"gridwidth\": 2, \"linecolor\": \"white\", \"showbackground\": true, \"ticks\": \"\", \"zerolinecolor\": \"white\"}, \"yaxis\": {\"backgroundcolor\": \"#E5ECF6\", \"gridcolor\": \"white\", \"gridwidth\": 2, \"linecolor\": \"white\", \"showbackground\": true, \"ticks\": \"\", \"zerolinecolor\": \"white\"}, \"zaxis\": {\"backgroundcolor\": \"#E5ECF6\", \"gridcolor\": \"white\", \"gridwidth\": 2, \"linecolor\": \"white\", \"showbackground\": true, \"ticks\": \"\", \"zerolinecolor\": \"white\"}}, \"shapedefaults\": {\"line\": {\"color\": \"#2a3f5f\"}}, \"ternary\": {\"aaxis\": {\"gridcolor\": \"white\", \"linecolor\": \"white\", \"ticks\": \"\"}, \"baxis\": {\"gridcolor\": \"white\", \"linecolor\": \"white\", \"ticks\": \"\"}, \"bgcolor\": \"#E5ECF6\", \"caxis\": {\"gridcolor\": \"white\", \"linecolor\": \"white\", \"ticks\": \"\"}}, \"title\": {\"x\": 0.05}, \"xaxis\": {\"automargin\": true, \"gridcolor\": \"white\", \"linecolor\": \"white\", \"ticks\": \"\", \"title\": {\"standoff\": 15}, \"zerolinecolor\": \"white\", \"zerolinewidth\": 2}, \"yaxis\": {\"automargin\": true, \"gridcolor\": \"white\", \"linecolor\": \"white\", \"ticks\": \"\", \"title\": {\"standoff\": 15}, \"zerolinecolor\": \"white\", \"zerolinewidth\": 2}}}, \"title\": {\"text\": \"Tweet Locations\"}},                        {\"responsive\": true}                    ).then(function(){\n",
       "                            \n",
       "var gd = document.getElementById('e6839b5b-af31-418e-a7fb-f49f173542ed');\n",
       "var x = new MutationObserver(function (mutations, observer) {{\n",
       "        var display = window.getComputedStyle(gd).display;\n",
       "        if (!display || display === 'none') {{\n",
       "            console.log([gd, 'removed!']);\n",
       "            Plotly.purge(gd);\n",
       "            observer.disconnect();\n",
       "        }}\n",
       "}});\n",
       "\n",
       "// Listen for the removal of the full notebook cells\n",
       "var notebookContainer = gd.closest('#notebook-container');\n",
       "if (notebookContainer) {{\n",
       "    x.observe(notebookContainer, {childList: true});\n",
       "}}\n",
       "\n",
       "// Listen for the clearing of the current output cell\n",
       "var outputEl = gd.closest('.output');\n",
       "if (outputEl) {{\n",
       "    x.observe(outputEl, {childList: true});\n",
       "}}\n",
       "\n",
       "                        })                };                });            </script>        </div>"
      ]
     },
     "metadata": {},
     "output_type": "display_data"
    }
   ],
   "source": [
    "def get_centroid(place):\n",
    "    return np.array(place['bounding_box']['coordinates'][0], dtype=np.float64).mean(axis=0)\n",
    "\n",
    "place_df = df[df.place.notnull()]['place']\n",
    "centroid_df = place_df.apply(get_centroid).apply(pd.Series)\n",
    "centroid_df.columns = ['longitude', 'latitude']\n",
    "fig = pff.create_hexbin_mapbox(data_frame=centroid_df, lat='latitude', lon='longitude', labels={'color': 'Tweet Count'}, opacity=0.69, nx_hexagon=30, min_count=1, color_continuous_scale='emrld', title='Tweet Locations')\n",
    "fig.update_layout(mapbox_style='open-street-map')\n",
    "fig.write_image(os.path.join(PATH_OUT, 'plots/locations.svg'))\n",
    "fig.show()"
   ]
  }
 ],
 "metadata": {
  "kernelspec": {
   "display_name": "Python 3.6.9 64-bit",
   "language": "python",
   "name": "python36964bit11d3d2d31c994e8b981d4ce22abfed2e"
  },
  "language_info": {
   "codemirror_mode": {
    "name": "ipython",
    "version": 3
   },
   "file_extension": ".py",
   "mimetype": "text/x-python",
   "name": "python",
   "nbconvert_exporter": "python",
   "pygments_lexer": "ipython3",
   "version": "3.6.9"
  }
 },
 "nbformat": 4,
 "nbformat_minor": 2
}
